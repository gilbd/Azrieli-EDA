{
 "cells": [
  {
   "cell_type": "markdown",
   "metadata": {},
   "source": [
    "# Data Cleaning "
   ]
  },
  {
   "cell_type": "markdown",
   "metadata": {},
   "source": [
    "In the following notebook I'll work on the Azrieli Trucks dataset.  \n",
    "The goal of this project is to create a summary dataframe consist all driving data on each driver per month"
   ]
  },
  {
   "cell_type": "markdown",
   "metadata": {
    "heading_collapsed": true
   },
   "source": [
    "## 0. Imports"
   ]
  },
  {
   "cell_type": "code",
   "execution_count": 171,
   "metadata": {
    "ExecuteTime": {
     "end_time": "2020-08-11T13:59:55.263474Z",
     "start_time": "2020-08-11T13:59:55.252502Z"
    },
    "hidden": true
   },
   "outputs": [],
   "source": [
    "import pandas as pd\n",
    "import numpy as np\n",
    "import seaborn as sns\n",
    "import matplotlib.pyplot as plt\n",
    "import matplotlib.ticker as ticker\n",
    "import os\n",
    "\n",
    "sns.set(style='darkgrid')\n",
    "%matplotlib inline"
   ]
  },
  {
   "cell_type": "markdown",
   "metadata": {},
   "source": [
    "## 1. Drivers data "
   ]
  },
  {
   "cell_type": "markdown",
   "metadata": {},
   "source": [
    "### 1.0 Read the data "
   ]
  },
  {
   "cell_type": "code",
   "execution_count": 172,
   "metadata": {
    "ExecuteTime": {
     "end_time": "2020-08-11T13:59:55.321393Z",
     "start_time": "2020-08-11T13:59:55.266465Z"
    }
   },
   "outputs": [],
   "source": [
    "drivers = {'drivers_with_kviut': pd.read_csv('data/Drivers_with_kviut.csv'),\n",
    "           'new_drivers': pd.read_csv('data/new_drivers.csv')}"
   ]
  },
  {
   "cell_type": "code",
   "execution_count": 173,
   "metadata": {
    "ExecuteTime": {
     "end_time": "2020-08-11T13:59:55.336353Z",
     "start_time": "2020-08-11T13:59:55.323389Z"
    }
   },
   "outputs": [
    {
     "data": {
      "text/html": [
       "<div>\n",
       "<style scoped>\n",
       "    .dataframe tbody tr th:only-of-type {\n",
       "        vertical-align: middle;\n",
       "    }\n",
       "\n",
       "    .dataframe tbody tr th {\n",
       "        vertical-align: top;\n",
       "    }\n",
       "\n",
       "    .dataframe thead th {\n",
       "        text-align: right;\n",
       "    }\n",
       "</style>\n",
       "<table border=\"1\" class=\"dataframe\">\n",
       "  <thead>\n",
       "    <tr style=\"text-align: right;\">\n",
       "      <th></th>\n",
       "      <th>Unnamed: 0</th>\n",
       "      <th>birthdate</th>\n",
       "      <th>gender</th>\n",
       "      <th>id</th>\n",
       "      <th>vetek</th>\n",
       "    </tr>\n",
       "  </thead>\n",
       "  <tbody>\n",
       "    <tr>\n",
       "      <th>0</th>\n",
       "      <td>100</td>\n",
       "      <td>27/05/1964</td>\n",
       "      <td>m</td>\n",
       "      <td>502</td>\n",
       "      <td>7.9</td>\n",
       "    </tr>\n",
       "    <tr>\n",
       "      <th>1</th>\n",
       "      <td>101</td>\n",
       "      <td>10/07/1983</td>\n",
       "      <td>M</td>\n",
       "      <td>81</td>\n",
       "      <td>14.4</td>\n",
       "    </tr>\n",
       "    <tr>\n",
       "      <th>2</th>\n",
       "      <td>102</td>\n",
       "      <td>15/10/1992</td>\n",
       "      <td>M</td>\n",
       "      <td>814</td>\n",
       "      <td>18.7</td>\n",
       "    </tr>\n",
       "    <tr>\n",
       "      <th>3</th>\n",
       "      <td>103</td>\n",
       "      <td>18/07/1990</td>\n",
       "      <td>M</td>\n",
       "      <td>666</td>\n",
       "      <td>8.7</td>\n",
       "    </tr>\n",
       "    <tr>\n",
       "      <th>4</th>\n",
       "      <td>104</td>\n",
       "      <td>10/04/1969</td>\n",
       "      <td>M</td>\n",
       "      <td>205</td>\n",
       "      <td>9.9</td>\n",
       "    </tr>\n",
       "  </tbody>\n",
       "</table>\n",
       "</div>"
      ],
      "text/plain": [
       "   Unnamed: 0   birthdate gender   id  vetek\n",
       "0         100  27/05/1964      m  502    7.9\n",
       "1         101  10/07/1983      M   81   14.4\n",
       "2         102  15/10/1992      M  814   18.7\n",
       "3         103  18/07/1990      M  666    8.7\n",
       "4         104  10/04/1969      M  205    9.9"
      ]
     },
     "execution_count": 173,
     "metadata": {},
     "output_type": "execute_result"
    }
   ],
   "source": [
    "drivers['drivers_with_kviut'].head()"
   ]
  },
  {
   "cell_type": "code",
   "execution_count": 174,
   "metadata": {
    "ExecuteTime": {
     "end_time": "2020-08-11T13:59:55.352311Z",
     "start_time": "2020-08-11T13:59:55.339346Z"
    },
    "scrolled": true
   },
   "outputs": [
    {
     "data": {
      "text/html": [
       "<div>\n",
       "<style scoped>\n",
       "    .dataframe tbody tr th:only-of-type {\n",
       "        vertical-align: middle;\n",
       "    }\n",
       "\n",
       "    .dataframe tbody tr th {\n",
       "        vertical-align: top;\n",
       "    }\n",
       "\n",
       "    .dataframe thead th {\n",
       "        text-align: right;\n",
       "    }\n",
       "</style>\n",
       "<table border=\"1\" class=\"dataframe\">\n",
       "  <thead>\n",
       "    <tr style=\"text-align: right;\">\n",
       "      <th></th>\n",
       "      <th>Unnamed: 0</th>\n",
       "      <th>birthdate</th>\n",
       "      <th>gender</th>\n",
       "      <th>id</th>\n",
       "      <th>vetek</th>\n",
       "    </tr>\n",
       "  </thead>\n",
       "  <tbody>\n",
       "    <tr>\n",
       "      <th>0</th>\n",
       "      <td>0</td>\n",
       "      <td>19.06.1967</td>\n",
       "      <td>F</td>\n",
       "      <td>943</td>\n",
       "      <td>232.0</td>\n",
       "    </tr>\n",
       "    <tr>\n",
       "      <th>1</th>\n",
       "      <td>1</td>\n",
       "      <td>february 13, 1979</td>\n",
       "      <td>M</td>\n",
       "      <td>966</td>\n",
       "      <td>28.0</td>\n",
       "    </tr>\n",
       "    <tr>\n",
       "      <th>2</th>\n",
       "      <td>2</td>\n",
       "      <td>19/11/1993</td>\n",
       "      <td>M</td>\n",
       "      <td>250</td>\n",
       "      <td>48.0</td>\n",
       "    </tr>\n",
       "    <tr>\n",
       "      <th>3</th>\n",
       "      <td>3</td>\n",
       "      <td>02/02/1961</td>\n",
       "      <td>NaN</td>\n",
       "      <td>156</td>\n",
       "      <td>272.0</td>\n",
       "    </tr>\n",
       "    <tr>\n",
       "      <th>4</th>\n",
       "      <td>4</td>\n",
       "      <td>07/03/1965</td>\n",
       "      <td>M</td>\n",
       "      <td>67</td>\n",
       "      <td>130.0</td>\n",
       "    </tr>\n",
       "  </tbody>\n",
       "</table>\n",
       "</div>"
      ],
      "text/plain": [
       "   Unnamed: 0          birthdate gender   id  vetek\n",
       "0           0         19.06.1967      F  943  232.0\n",
       "1           1  february 13, 1979      M  966   28.0\n",
       "2           2         19/11/1993      M  250   48.0\n",
       "3           3         02/02/1961    NaN  156  272.0\n",
       "4           4         07/03/1965      M   67  130.0"
      ]
     },
     "execution_count": 174,
     "metadata": {},
     "output_type": "execute_result"
    }
   ],
   "source": [
    "drivers['new_drivers'].head()"
   ]
  },
  {
   "cell_type": "code",
   "execution_count": 142,
   "metadata": {
    "ExecuteTime": {
     "end_time": "2020-08-11T13:35:22.147140Z",
     "start_time": "2020-08-11T13:35:22.113196Z"
    }
   },
   "outputs": [
    {
     "data": {
      "text/html": [
       "<div>\n",
       "<style scoped>\n",
       "    .dataframe tbody tr th:only-of-type {\n",
       "        vertical-align: middle;\n",
       "    }\n",
       "\n",
       "    .dataframe tbody tr th {\n",
       "        vertical-align: top;\n",
       "    }\n",
       "\n",
       "    .dataframe thead th {\n",
       "        text-align: right;\n",
       "    }\n",
       "</style>\n",
       "<table border=\"1\" class=\"dataframe\">\n",
       "  <thead>\n",
       "    <tr style=\"text-align: right;\">\n",
       "      <th></th>\n",
       "      <th>gender</th>\n",
       "      <th>id</th>\n",
       "      <th>vetek_years</th>\n",
       "      <th>birthdatetime</th>\n",
       "      <th>driver_avg_speed</th>\n",
       "    </tr>\n",
       "  </thead>\n",
       "  <tbody>\n",
       "    <tr>\n",
       "      <th>0</th>\n",
       "      <td>F</td>\n",
       "      <td>943</td>\n",
       "      <td>0.635616</td>\n",
       "      <td>1967-06-19</td>\n",
       "      <td>00:00:48.764316</td>\n",
       "    </tr>\n",
       "    <tr>\n",
       "      <th>1</th>\n",
       "      <td>M</td>\n",
       "      <td>966</td>\n",
       "      <td>0.076712</td>\n",
       "      <td>1979-02-13</td>\n",
       "      <td>00:00:49.240081</td>\n",
       "    </tr>\n",
       "    <tr>\n",
       "      <th>2</th>\n",
       "      <td>M</td>\n",
       "      <td>250</td>\n",
       "      <td>0.131507</td>\n",
       "      <td>1993-11-19</td>\n",
       "      <td>00:00:48.850687</td>\n",
       "    </tr>\n",
       "    <tr>\n",
       "      <th>3</th>\n",
       "      <td>NaN</td>\n",
       "      <td>156</td>\n",
       "      <td>0.745205</td>\n",
       "      <td>1961-02-02</td>\n",
       "      <td>00:00:49.321937</td>\n",
       "    </tr>\n",
       "    <tr>\n",
       "      <th>4</th>\n",
       "      <td>M</td>\n",
       "      <td>67</td>\n",
       "      <td>0.356164</td>\n",
       "      <td>1965-07-03</td>\n",
       "      <td>00:00:49.197046</td>\n",
       "    </tr>\n",
       "    <tr>\n",
       "      <th>5</th>\n",
       "      <td>M</td>\n",
       "      <td>684</td>\n",
       "      <td>0.463014</td>\n",
       "      <td>1900-01-01</td>\n",
       "      <td>00:00:48.831456</td>\n",
       "    </tr>\n",
       "    <tr>\n",
       "      <th>6</th>\n",
       "      <td>M</td>\n",
       "      <td>527</td>\n",
       "      <td>0.386301</td>\n",
       "      <td>1900-01-01</td>\n",
       "      <td>00:00:49.111170</td>\n",
       "    </tr>\n",
       "    <tr>\n",
       "      <th>7</th>\n",
       "      <td>M</td>\n",
       "      <td>556</td>\n",
       "      <td>0.783562</td>\n",
       "      <td>1975-03-19</td>\n",
       "      <td>00:00:48.683364</td>\n",
       "    </tr>\n",
       "    <tr>\n",
       "      <th>8</th>\n",
       "      <td>M</td>\n",
       "      <td>446</td>\n",
       "      <td>0.123288</td>\n",
       "      <td>1976-09-05</td>\n",
       "      <td>00:00:49.098648</td>\n",
       "    </tr>\n",
       "    <tr>\n",
       "      <th>9</th>\n",
       "      <td>M</td>\n",
       "      <td>841</td>\n",
       "      <td>0.690411</td>\n",
       "      <td>1977-09-05</td>\n",
       "      <td>00:00:49.033609</td>\n",
       "    </tr>\n",
       "    <tr>\n",
       "      <th>10</th>\n",
       "      <td>M</td>\n",
       "      <td>126</td>\n",
       "      <td>0.742466</td>\n",
       "      <td>1972-09-16</td>\n",
       "      <td>00:00:49.540869</td>\n",
       "    </tr>\n",
       "    <tr>\n",
       "      <th>11</th>\n",
       "      <td>M</td>\n",
       "      <td>910</td>\n",
       "      <td>0.572603</td>\n",
       "      <td>1967-09-15</td>\n",
       "      <td>00:00:49.590579</td>\n",
       "    </tr>\n",
       "    <tr>\n",
       "      <th>12</th>\n",
       "      <td>M</td>\n",
       "      <td>112</td>\n",
       "      <td>0.882192</td>\n",
       "      <td>1971-02-17</td>\n",
       "      <td>00:00:49.160908</td>\n",
       "    </tr>\n",
       "    <tr>\n",
       "      <th>13</th>\n",
       "      <td>M</td>\n",
       "      <td>191</td>\n",
       "      <td>0.101370</td>\n",
       "      <td>1975-06-26</td>\n",
       "      <td>00:00:49.082554</td>\n",
       "    </tr>\n",
       "    <tr>\n",
       "      <th>14</th>\n",
       "      <td>M</td>\n",
       "      <td>739</td>\n",
       "      <td>0.597260</td>\n",
       "      <td>1988-03-26</td>\n",
       "      <td>00:00:49.191647</td>\n",
       "    </tr>\n",
       "    <tr>\n",
       "      <th>15</th>\n",
       "      <td>M</td>\n",
       "      <td>579</td>\n",
       "      <td>0.271233</td>\n",
       "      <td>1984-12-08</td>\n",
       "      <td>00:00:48.391043</td>\n",
       "    </tr>\n",
       "    <tr>\n",
       "      <th>16</th>\n",
       "      <td>M</td>\n",
       "      <td>111</td>\n",
       "      <td>0.753425</td>\n",
       "      <td>1980-06-20</td>\n",
       "      <td>00:00:48.494130</td>\n",
       "    </tr>\n",
       "    <tr>\n",
       "      <th>17</th>\n",
       "      <td>M</td>\n",
       "      <td>285</td>\n",
       "      <td>0.967123</td>\n",
       "      <td>1978-07-25</td>\n",
       "      <td>00:00:48.770899</td>\n",
       "    </tr>\n",
       "    <tr>\n",
       "      <th>18</th>\n",
       "      <td>M</td>\n",
       "      <td>796</td>\n",
       "      <td>0.347945</td>\n",
       "      <td>1966-04-09</td>\n",
       "      <td>00:00:48.574057</td>\n",
       "    </tr>\n",
       "    <tr>\n",
       "      <th>19</th>\n",
       "      <td>M</td>\n",
       "      <td>310</td>\n",
       "      <td>0.846575</td>\n",
       "      <td>1983-09-23</td>\n",
       "      <td>00:00:49.925732</td>\n",
       "    </tr>\n",
       "    <tr>\n",
       "      <th>20</th>\n",
       "      <td>M</td>\n",
       "      <td>458</td>\n",
       "      <td>0.175342</td>\n",
       "      <td>1986-03-18</td>\n",
       "      <td>00:00:49.453953</td>\n",
       "    </tr>\n",
       "    <tr>\n",
       "      <th>21</th>\n",
       "      <td>M</td>\n",
       "      <td>884</td>\n",
       "      <td>0.558904</td>\n",
       "      <td>1961-10-23</td>\n",
       "      <td>00:00:48.595212</td>\n",
       "    </tr>\n",
       "    <tr>\n",
       "      <th>22</th>\n",
       "      <td>M</td>\n",
       "      <td>335</td>\n",
       "      <td>0.761644</td>\n",
       "      <td>1978-11-15</td>\n",
       "      <td>00:00:49.565026</td>\n",
       "    </tr>\n",
       "    <tr>\n",
       "      <th>23</th>\n",
       "      <td>M</td>\n",
       "      <td>521</td>\n",
       "      <td>0.830137</td>\n",
       "      <td>1969-10-27</td>\n",
       "      <td>00:00:48.566690</td>\n",
       "    </tr>\n",
       "    <tr>\n",
       "      <th>24</th>\n",
       "      <td>M</td>\n",
       "      <td>887</td>\n",
       "      <td>0.024658</td>\n",
       "      <td>1900-01-01</td>\n",
       "      <td>00:00:48.896366</td>\n",
       "    </tr>\n",
       "    <tr>\n",
       "      <th>25</th>\n",
       "      <td>M</td>\n",
       "      <td>601</td>\n",
       "      <td>0.205479</td>\n",
       "      <td>1986-02-13</td>\n",
       "      <td>00:00:48.579464</td>\n",
       "    </tr>\n",
       "    <tr>\n",
       "      <th>26</th>\n",
       "      <td>M</td>\n",
       "      <td>11</td>\n",
       "      <td>0.589041</td>\n",
       "      <td>1986-10-27</td>\n",
       "      <td>00:00:49.478872</td>\n",
       "    </tr>\n",
       "    <tr>\n",
       "      <th>27</th>\n",
       "      <td>M</td>\n",
       "      <td>624</td>\n",
       "      <td>0.668493</td>\n",
       "      <td>1973-03-02</td>\n",
       "      <td>00:00:48.895771</td>\n",
       "    </tr>\n",
       "    <tr>\n",
       "      <th>28</th>\n",
       "      <td>M</td>\n",
       "      <td>737</td>\n",
       "      <td>0.257534</td>\n",
       "      <td>1967-10-26</td>\n",
       "      <td>00:00:48.455342</td>\n",
       "    </tr>\n",
       "    <tr>\n",
       "      <th>29</th>\n",
       "      <td>M</td>\n",
       "      <td>823</td>\n",
       "      <td>0.342466</td>\n",
       "      <td>1975-07-04</td>\n",
       "      <td>00:00:49.369472</td>\n",
       "    </tr>\n",
       "    <tr>\n",
       "      <th>...</th>\n",
       "      <td>...</td>\n",
       "      <td>...</td>\n",
       "      <td>...</td>\n",
       "      <td>...</td>\n",
       "      <td>...</td>\n",
       "    </tr>\n",
       "    <tr>\n",
       "      <th>970</th>\n",
       "      <td>M</td>\n",
       "      <td>80</td>\n",
       "      <td>17.500000</td>\n",
       "      <td>1968-04-02</td>\n",
       "      <td>00:00:49.027231</td>\n",
       "    </tr>\n",
       "    <tr>\n",
       "      <th>971</th>\n",
       "      <td>M</td>\n",
       "      <td>434</td>\n",
       "      <td>7.700000</td>\n",
       "      <td>1989-01-06</td>\n",
       "      <td>00:00:49.166636</td>\n",
       "    </tr>\n",
       "    <tr>\n",
       "      <th>972</th>\n",
       "      <td>M</td>\n",
       "      <td>210</td>\n",
       "      <td>1.900000</td>\n",
       "      <td>1988-11-16</td>\n",
       "      <td>00:00:49.587096</td>\n",
       "    </tr>\n",
       "    <tr>\n",
       "      <th>973</th>\n",
       "      <td>M</td>\n",
       "      <td>860</td>\n",
       "      <td>16.800000</td>\n",
       "      <td>1987-07-11</td>\n",
       "      <td>00:00:48.832064</td>\n",
       "    </tr>\n",
       "    <tr>\n",
       "      <th>974</th>\n",
       "      <td>M</td>\n",
       "      <td>220</td>\n",
       "      <td>7.300000</td>\n",
       "      <td>1993-01-10</td>\n",
       "      <td>00:00:48.842080</td>\n",
       "    </tr>\n",
       "    <tr>\n",
       "      <th>975</th>\n",
       "      <td>NaN</td>\n",
       "      <td>769</td>\n",
       "      <td>18.900000</td>\n",
       "      <td>1967-01-20</td>\n",
       "      <td>00:00:49.328768</td>\n",
       "    </tr>\n",
       "    <tr>\n",
       "      <th>976</th>\n",
       "      <td>M</td>\n",
       "      <td>692</td>\n",
       "      <td>2.300000</td>\n",
       "      <td>1983-07-06</td>\n",
       "      <td>00:00:48.466072</td>\n",
       "    </tr>\n",
       "    <tr>\n",
       "      <th>977</th>\n",
       "      <td>M</td>\n",
       "      <td>546</td>\n",
       "      <td>13.500000</td>\n",
       "      <td>1970-04-21</td>\n",
       "      <td>00:00:49.224287</td>\n",
       "    </tr>\n",
       "    <tr>\n",
       "      <th>978</th>\n",
       "      <td>M</td>\n",
       "      <td>777</td>\n",
       "      <td>16.000000</td>\n",
       "      <td>1966-08-23</td>\n",
       "      <td>00:00:48.761545</td>\n",
       "    </tr>\n",
       "    <tr>\n",
       "      <th>979</th>\n",
       "      <td>M</td>\n",
       "      <td>581</td>\n",
       "      <td>18.500000</td>\n",
       "      <td>1990-01-06</td>\n",
       "      <td>00:00:49.182193</td>\n",
       "    </tr>\n",
       "    <tr>\n",
       "      <th>980</th>\n",
       "      <td>M</td>\n",
       "      <td>452</td>\n",
       "      <td>4.400000</td>\n",
       "      <td>1972-07-20</td>\n",
       "      <td>00:00:48.962749</td>\n",
       "    </tr>\n",
       "    <tr>\n",
       "      <th>981</th>\n",
       "      <td>M</td>\n",
       "      <td>511</td>\n",
       "      <td>10.900000</td>\n",
       "      <td>1990-07-09</td>\n",
       "      <td>00:00:49.527259</td>\n",
       "    </tr>\n",
       "    <tr>\n",
       "      <th>982</th>\n",
       "      <td>M</td>\n",
       "      <td>214</td>\n",
       "      <td>5.900000</td>\n",
       "      <td>1900-01-01</td>\n",
       "      <td>00:00:49.442972</td>\n",
       "    </tr>\n",
       "    <tr>\n",
       "      <th>983</th>\n",
       "      <td>M</td>\n",
       "      <td>234</td>\n",
       "      <td>6.200000</td>\n",
       "      <td>1983-10-03</td>\n",
       "      <td>00:00:49.121091</td>\n",
       "    </tr>\n",
       "    <tr>\n",
       "      <th>984</th>\n",
       "      <td>M</td>\n",
       "      <td>853</td>\n",
       "      <td>2.300000</td>\n",
       "      <td>1983-05-17</td>\n",
       "      <td>00:00:48.375113</td>\n",
       "    </tr>\n",
       "    <tr>\n",
       "      <th>985</th>\n",
       "      <td>M</td>\n",
       "      <td>551</td>\n",
       "      <td>4.300000</td>\n",
       "      <td>1900-01-01</td>\n",
       "      <td>00:00:49.008824</td>\n",
       "    </tr>\n",
       "    <tr>\n",
       "      <th>986</th>\n",
       "      <td>M</td>\n",
       "      <td>505</td>\n",
       "      <td>2.500000</td>\n",
       "      <td>1992-03-21</td>\n",
       "      <td>00:00:48.687645</td>\n",
       "    </tr>\n",
       "    <tr>\n",
       "      <th>987</th>\n",
       "      <td>M</td>\n",
       "      <td>508</td>\n",
       "      <td>8.300000</td>\n",
       "      <td>1971-10-25</td>\n",
       "      <td>00:00:48.935229</td>\n",
       "    </tr>\n",
       "    <tr>\n",
       "      <th>988</th>\n",
       "      <td>M</td>\n",
       "      <td>795</td>\n",
       "      <td>8.600000</td>\n",
       "      <td>1975-06-27</td>\n",
       "      <td>00:00:48.530258</td>\n",
       "    </tr>\n",
       "    <tr>\n",
       "      <th>989</th>\n",
       "      <td>M</td>\n",
       "      <td>317</td>\n",
       "      <td>2.700000</td>\n",
       "      <td>1992-08-15</td>\n",
       "      <td>00:00:48.765149</td>\n",
       "    </tr>\n",
       "    <tr>\n",
       "      <th>990</th>\n",
       "      <td>M</td>\n",
       "      <td>792</td>\n",
       "      <td>8.700000</td>\n",
       "      <td>1900-01-01</td>\n",
       "      <td>00:00:48.970995</td>\n",
       "    </tr>\n",
       "    <tr>\n",
       "      <th>991</th>\n",
       "      <td>M</td>\n",
       "      <td>974</td>\n",
       "      <td>8.200000</td>\n",
       "      <td>1991-07-02</td>\n",
       "      <td>00:00:49.086417</td>\n",
       "    </tr>\n",
       "    <tr>\n",
       "      <th>992</th>\n",
       "      <td>M</td>\n",
       "      <td>117</td>\n",
       "      <td>17.100000</td>\n",
       "      <td>1966-06-14</td>\n",
       "      <td>00:00:48.878719</td>\n",
       "    </tr>\n",
       "    <tr>\n",
       "      <th>993</th>\n",
       "      <td>M</td>\n",
       "      <td>410</td>\n",
       "      <td>17.400000</td>\n",
       "      <td>1987-02-11</td>\n",
       "      <td>00:00:48.998614</td>\n",
       "    </tr>\n",
       "    <tr>\n",
       "      <th>994</th>\n",
       "      <td>M</td>\n",
       "      <td>182</td>\n",
       "      <td>14.400000</td>\n",
       "      <td>1985-03-11</td>\n",
       "      <td>00:00:48.732966</td>\n",
       "    </tr>\n",
       "    <tr>\n",
       "      <th>995</th>\n",
       "      <td>M</td>\n",
       "      <td>119</td>\n",
       "      <td>15.400000</td>\n",
       "      <td>1960-04-01</td>\n",
       "      <td>00:00:49.394738</td>\n",
       "    </tr>\n",
       "    <tr>\n",
       "      <th>996</th>\n",
       "      <td>M</td>\n",
       "      <td>236</td>\n",
       "      <td>6.700000</td>\n",
       "      <td>1983-12-08</td>\n",
       "      <td>00:00:48.944704</td>\n",
       "    </tr>\n",
       "    <tr>\n",
       "      <th>997</th>\n",
       "      <td>M</td>\n",
       "      <td>449</td>\n",
       "      <td>18.700000</td>\n",
       "      <td>1987-06-13</td>\n",
       "      <td>00:00:49.110557</td>\n",
       "    </tr>\n",
       "    <tr>\n",
       "      <th>998</th>\n",
       "      <td>M</td>\n",
       "      <td>494</td>\n",
       "      <td>7.900000</td>\n",
       "      <td>1977-02-21</td>\n",
       "      <td>00:00:49.371654</td>\n",
       "    </tr>\n",
       "    <tr>\n",
       "      <th>999</th>\n",
       "      <td>M</td>\n",
       "      <td>609</td>\n",
       "      <td>4.600000</td>\n",
       "      <td>1900-01-01</td>\n",
       "      <td>00:00:48.506202</td>\n",
       "    </tr>\n",
       "  </tbody>\n",
       "</table>\n",
       "<p>1000 rows × 5 columns</p>\n",
       "</div>"
      ],
      "text/plain": [
       "    gender   id  vetek_years birthdatetime driver_avg_speed\n",
       "0        F  943     0.635616    1967-06-19  00:00:48.764316\n",
       "1        M  966     0.076712    1979-02-13  00:00:49.240081\n",
       "2        M  250     0.131507    1993-11-19  00:00:48.850687\n",
       "3      NaN  156     0.745205    1961-02-02  00:00:49.321937\n",
       "4        M   67     0.356164    1965-07-03  00:00:49.197046\n",
       "5        M  684     0.463014    1900-01-01  00:00:48.831456\n",
       "6        M  527     0.386301    1900-01-01  00:00:49.111170\n",
       "7        M  556     0.783562    1975-03-19  00:00:48.683364\n",
       "8        M  446     0.123288    1976-09-05  00:00:49.098648\n",
       "9        M  841     0.690411    1977-09-05  00:00:49.033609\n",
       "10       M  126     0.742466    1972-09-16  00:00:49.540869\n",
       "11       M  910     0.572603    1967-09-15  00:00:49.590579\n",
       "12       M  112     0.882192    1971-02-17  00:00:49.160908\n",
       "13       M  191     0.101370    1975-06-26  00:00:49.082554\n",
       "14       M  739     0.597260    1988-03-26  00:00:49.191647\n",
       "15       M  579     0.271233    1984-12-08  00:00:48.391043\n",
       "16       M  111     0.753425    1980-06-20  00:00:48.494130\n",
       "17       M  285     0.967123    1978-07-25  00:00:48.770899\n",
       "18       M  796     0.347945    1966-04-09  00:00:48.574057\n",
       "19       M  310     0.846575    1983-09-23  00:00:49.925732\n",
       "20       M  458     0.175342    1986-03-18  00:00:49.453953\n",
       "21       M  884     0.558904    1961-10-23  00:00:48.595212\n",
       "22       M  335     0.761644    1978-11-15  00:00:49.565026\n",
       "23       M  521     0.830137    1969-10-27  00:00:48.566690\n",
       "24       M  887     0.024658    1900-01-01  00:00:48.896366\n",
       "25       M  601     0.205479    1986-02-13  00:00:48.579464\n",
       "26       M   11     0.589041    1986-10-27  00:00:49.478872\n",
       "27       M  624     0.668493    1973-03-02  00:00:48.895771\n",
       "28       M  737     0.257534    1967-10-26  00:00:48.455342\n",
       "29       M  823     0.342466    1975-07-04  00:00:49.369472\n",
       "..     ...  ...          ...           ...              ...\n",
       "970      M   80    17.500000    1968-04-02  00:00:49.027231\n",
       "971      M  434     7.700000    1989-01-06  00:00:49.166636\n",
       "972      M  210     1.900000    1988-11-16  00:00:49.587096\n",
       "973      M  860    16.800000    1987-07-11  00:00:48.832064\n",
       "974      M  220     7.300000    1993-01-10  00:00:48.842080\n",
       "975    NaN  769    18.900000    1967-01-20  00:00:49.328768\n",
       "976      M  692     2.300000    1983-07-06  00:00:48.466072\n",
       "977      M  546    13.500000    1970-04-21  00:00:49.224287\n",
       "978      M  777    16.000000    1966-08-23  00:00:48.761545\n",
       "979      M  581    18.500000    1990-01-06  00:00:49.182193\n",
       "980      M  452     4.400000    1972-07-20  00:00:48.962749\n",
       "981      M  511    10.900000    1990-07-09  00:00:49.527259\n",
       "982      M  214     5.900000    1900-01-01  00:00:49.442972\n",
       "983      M  234     6.200000    1983-10-03  00:00:49.121091\n",
       "984      M  853     2.300000    1983-05-17  00:00:48.375113\n",
       "985      M  551     4.300000    1900-01-01  00:00:49.008824\n",
       "986      M  505     2.500000    1992-03-21  00:00:48.687645\n",
       "987      M  508     8.300000    1971-10-25  00:00:48.935229\n",
       "988      M  795     8.600000    1975-06-27  00:00:48.530258\n",
       "989      M  317     2.700000    1992-08-15  00:00:48.765149\n",
       "990      M  792     8.700000    1900-01-01  00:00:48.970995\n",
       "991      M  974     8.200000    1991-07-02  00:00:49.086417\n",
       "992      M  117    17.100000    1966-06-14  00:00:48.878719\n",
       "993      M  410    17.400000    1987-02-11  00:00:48.998614\n",
       "994      M  182    14.400000    1985-03-11  00:00:48.732966\n",
       "995      M  119    15.400000    1960-04-01  00:00:49.394738\n",
       "996      M  236     6.700000    1983-12-08  00:00:48.944704\n",
       "997      M  449    18.700000    1987-06-13  00:00:49.110557\n",
       "998      M  494     7.900000    1977-02-21  00:00:49.371654\n",
       "999      M  609     4.600000    1900-01-01  00:00:48.506202\n",
       "\n",
       "[1000 rows x 5 columns]"
      ]
     },
     "execution_count": 142,
     "metadata": {},
     "output_type": "execute_result"
    }
   ],
   "source": [
    "drivers['drivers']"
   ]
  },
  {
   "cell_type": "markdown",
   "metadata": {},
   "source": [
    "### 1.1 Handle Vetek "
   ]
  },
  {
   "cell_type": "markdown",
   "metadata": {},
   "source": [
    "According to the customer, senior drivers' vetek counted by years, and juniors' vetek counted by days.  \n",
    "Since the summary dataframe should contains a 'vetek' column by years, I'll convert all the 'vetek' data to years.  \n",
    "In addition, the 'Unnamed: 0' column is useless, so we can get rid of it."
   ]
  },
  {
   "cell_type": "code",
   "execution_count": 175,
   "metadata": {
    "ExecuteTime": {
     "end_time": "2020-08-11T13:59:55.363281Z",
     "start_time": "2020-08-11T13:59:55.354306Z"
    }
   },
   "outputs": [],
   "source": [
    "drivers['drivers_with_kviut'].rename(columns={'vetek':'vetek_years'}, inplace=True)\n",
    "drivers['drivers_with_kviut'].drop('Unnamed: 0', axis=1, inplace=True)"
   ]
  },
  {
   "cell_type": "code",
   "execution_count": 176,
   "metadata": {
    "ExecuteTime": {
     "end_time": "2020-08-11T13:59:55.373255Z",
     "start_time": "2020-08-11T13:59:55.366276Z"
    }
   },
   "outputs": [],
   "source": [
    "drivers['new_drivers'].rename(columns={'vetek':'vetek_days'}, inplace=True)\n",
    "drivers['new_drivers']['vetek_years'] = drivers['new_drivers']['vetek_days'].div(365)\n",
    "drivers['new_drivers'].drop('Unnamed: 0', axis=1, inplace=True)"
   ]
  },
  {
   "cell_type": "markdown",
   "metadata": {},
   "source": [
    "### 1.2 Handle Birthdates "
   ]
  },
  {
   "cell_type": "markdown",
   "metadata": {
    "ExecuteTime": {
     "end_time": "2020-08-09T14:43:54.050267Z",
     "start_time": "2020-08-09T14:43:53.619117Z"
    }
   },
   "source": [
    "Now, let's handle with the birthdates format:"
   ]
  },
  {
   "cell_type": "code",
   "execution_count": 177,
   "metadata": {
    "ExecuteTime": {
     "end_time": "2020-08-11T13:59:55.471314Z",
     "start_time": "2020-08-11T13:59:55.376247Z"
    }
   },
   "outputs": [],
   "source": [
    "for df in drivers.values():\n",
    "    df['birthdatetime'] = pd.to_datetime(df['birthdate'], dayfirst=True)"
   ]
  },
  {
   "cell_type": "markdown",
   "metadata": {},
   "source": [
    "Let's verify that all the birthdates converted properly:"
   ]
  },
  {
   "cell_type": "code",
   "execution_count": 178,
   "metadata": {
    "ExecuteTime": {
     "end_time": "2020-08-11T13:59:55.479257Z",
     "start_time": "2020-08-11T13:59:55.473235Z"
    }
   },
   "outputs": [
    {
     "data": {
      "text/plain": [
       "True"
      ]
     },
     "execution_count": 178,
     "metadata": {},
     "output_type": "execute_result"
    }
   ],
   "source": [
    "drivers['drivers_with_kviut']['birthdate'].isnull().sum() == drivers['drivers_with_kviut']['birthdatetime'].isnull().sum()"
   ]
  },
  {
   "cell_type": "code",
   "execution_count": 179,
   "metadata": {
    "ExecuteTime": {
     "end_time": "2020-08-11T13:59:55.493186Z",
     "start_time": "2020-08-11T13:59:55.480248Z"
    }
   },
   "outputs": [
    {
     "data": {
      "text/plain": [
       "True"
      ]
     },
     "execution_count": 179,
     "metadata": {},
     "output_type": "execute_result"
    }
   ],
   "source": [
    "drivers['new_drivers']['birthdate'].isnull().sum() == drivers['new_drivers']['birthdatetime'].isnull().sum()"
   ]
  },
  {
   "cell_type": "markdown",
   "metadata": {},
   "source": [
    "Let's calc the ages:"
   ]
  },
  {
   "cell_type": "code",
   "execution_count": 180,
   "metadata": {
    "ExecuteTime": {
     "end_time": "2020-08-11T13:59:55.507185Z",
     "start_time": "2020-08-11T13:59:55.496206Z"
    }
   },
   "outputs": [
    {
     "data": {
      "text/plain": [
       "count                     890\n",
       "unique                    806\n",
       "top       1900-01-01 00:00:00\n",
       "freq                       53\n",
       "first     1900-01-01 00:00:00\n",
       "last      1993-11-19 00:00:00\n",
       "Name: birthdatetime, dtype: object"
      ]
     },
     "execution_count": 180,
     "metadata": {},
     "output_type": "execute_result"
    }
   ],
   "source": [
    "drivers['drivers_with_kviut']['birthdatetime'].describe()"
   ]
  },
  {
   "cell_type": "markdown",
   "metadata": {},
   "source": [
    "We don't know the age of all the drivers which born on 01/01/1900:"
   ]
  },
  {
   "cell_type": "code",
   "execution_count": 181,
   "metadata": {
    "ExecuteTime": {
     "end_time": "2020-08-11T13:59:55.520111Z",
     "start_time": "2020-08-11T13:59:55.510137Z"
    }
   },
   "outputs": [],
   "source": [
    "drivers['drivers_with_kviut'].loc[drivers['drivers_with_kviut']['birthdatetime'] == \\\n",
    "                                  pd.to_datetime('1900'), 'birthdatetime'] = np.nan"
   ]
  },
  {
   "cell_type": "code",
   "execution_count": 182,
   "metadata": {
    "ExecuteTime": {
     "end_time": "2020-08-11T13:59:55.531081Z",
     "start_time": "2020-08-11T13:59:55.522133Z"
    }
   },
   "outputs": [],
   "source": [
    "drivers['new_drivers'].loc[drivers['new_drivers']['birthdatetime'] == \\\n",
    "                                  pd.to_datetime('1900'), 'birthdatetime'] = np.nan"
   ]
  },
  {
   "cell_type": "markdown",
   "metadata": {},
   "source": [
    "For this cases which lack of both start and end time, I'll set the start time to be the first sunday of the month at 6am (to avoid bonuses), and then handle them like the only end_time is missing "
   ]
  },
  {
   "cell_type": "code",
   "execution_count": 183,
   "metadata": {
    "ExecuteTime": {
     "end_time": "2020-08-11T13:59:55.544046Z",
     "start_time": "2020-08-11T13:59:55.535070Z"
    }
   },
   "outputs": [],
   "source": [
    "for df in drivers.values()drivers['drivers_with_kviut']:\n",
    "    df['age'] = ((pd.Timestamp('now') - df['birthdatetime']) / pd.Timedelta(days=365))"
   ]
  },
  {
   "cell_type": "code",
   "execution_count": 191,
   "metadata": {
    "ExecuteTime": {
     "end_time": "2020-08-11T14:03:11.040045Z",
     "start_time": "2020-08-11T14:03:11.021096Z"
    }
   },
   "outputs": [
    {
     "data": {
      "text/html": [
       "<div>\n",
       "<style scoped>\n",
       "    .dataframe tbody tr th:only-of-type {\n",
       "        vertical-align: middle;\n",
       "    }\n",
       "\n",
       "    .dataframe tbody tr th {\n",
       "        vertical-align: top;\n",
       "    }\n",
       "\n",
       "    .dataframe thead th {\n",
       "        text-align: right;\n",
       "    }\n",
       "</style>\n",
       "<table border=\"1\" class=\"dataframe\">\n",
       "  <thead>\n",
       "    <tr style=\"text-align: right;\">\n",
       "      <th></th>\n",
       "      <th>id</th>\n",
       "      <th>vetek_years</th>\n",
       "      <th>age</th>\n",
       "    </tr>\n",
       "  </thead>\n",
       "  <tbody>\n",
       "    <tr>\n",
       "      <th>count</th>\n",
       "      <td>900.000000</td>\n",
       "      <td>900.000000</td>\n",
       "      <td>837.000000</td>\n",
       "    </tr>\n",
       "    <tr>\n",
       "      <th>mean</th>\n",
       "      <td>497.104444</td>\n",
       "      <td>9.942111</td>\n",
       "      <td>42.935484</td>\n",
       "    </tr>\n",
       "    <tr>\n",
       "      <th>std</th>\n",
       "      <td>289.801390</td>\n",
       "      <td>5.154083</td>\n",
       "      <td>9.725695</td>\n",
       "    </tr>\n",
       "    <tr>\n",
       "      <th>min</th>\n",
       "      <td>1.000000</td>\n",
       "      <td>1.000000</td>\n",
       "      <td>27.000000</td>\n",
       "    </tr>\n",
       "    <tr>\n",
       "      <th>25%</th>\n",
       "      <td>245.750000</td>\n",
       "      <td>5.500000</td>\n",
       "      <td>34.000000</td>\n",
       "    </tr>\n",
       "    <tr>\n",
       "      <th>50%</th>\n",
       "      <td>497.500000</td>\n",
       "      <td>9.900000</td>\n",
       "      <td>42.000000</td>\n",
       "    </tr>\n",
       "    <tr>\n",
       "      <th>75%</th>\n",
       "      <td>745.250000</td>\n",
       "      <td>14.425000</td>\n",
       "      <td>51.000000</td>\n",
       "    </tr>\n",
       "    <tr>\n",
       "      <th>max</th>\n",
       "      <td>1000.000000</td>\n",
       "      <td>18.900000</td>\n",
       "      <td>61.000000</td>\n",
       "    </tr>\n",
       "  </tbody>\n",
       "</table>\n",
       "</div>"
      ],
      "text/plain": [
       "                id  vetek_years         age\n",
       "count   900.000000   900.000000  837.000000\n",
       "mean    497.104444     9.942111   42.935484\n",
       "std     289.801390     5.154083    9.725695\n",
       "min       1.000000     1.000000   27.000000\n",
       "25%     245.750000     5.500000   34.000000\n",
       "50%     497.500000     9.900000   42.000000\n",
       "75%     745.250000    14.425000   51.000000\n",
       "max    1000.000000    18.900000   61.000000"
      ]
     },
     "execution_count": 191,
     "metadata": {},
     "output_type": "execute_result"
    }
   ],
   "source": [
    "drivers['drivers_with_kviut'].describe()"
   ]
  },
  {
   "cell_type": "markdown",
   "metadata": {},
   "source": [
    "### 1.3 Handle Genders "
   ]
  },
  {
   "cell_type": "markdown",
   "metadata": {},
   "source": [
    "I'd like to see which gender formats exist:"
   ]
  },
  {
   "cell_type": "code",
   "execution_count": 192,
   "metadata": {
    "ExecuteTime": {
     "end_time": "2020-08-11T14:03:11.049057Z",
     "start_time": "2020-08-11T14:03:11.042040Z"
    }
   },
   "outputs": [
    {
     "data": {
      "text/plain": [
       "M          76\n",
       "male        7\n",
       "m           4\n",
       "boy         3\n",
       "unknown     3\n",
       "F           3\n",
       "woman       1\n",
       "Name: gender, dtype: int64"
      ]
     },
     "execution_count": 192,
     "metadata": {},
     "output_type": "execute_result"
    }
   ],
   "source": [
    "drivers['new_drivers']['gender'].value_counts()"
   ]
  },
  {
   "cell_type": "code",
   "execution_count": 193,
   "metadata": {
    "ExecuteTime": {
     "end_time": "2020-08-11T14:03:11.059026Z",
     "start_time": "2020-08-11T14:03:11.052013Z"
    },
    "scrolled": true
   },
   "outputs": [
    {
     "data": {
      "text/plain": [
       "M          674\n",
       "male        63\n",
       "boy         37\n",
       "unknown     37\n",
       "m           36\n",
       "F           17\n",
       "female      10\n",
       "girl         6\n",
       "none         4\n",
       "woman        3\n",
       "Name: gender, dtype: int64"
      ]
     },
     "execution_count": 193,
     "metadata": {},
     "output_type": "execute_result"
    }
   ],
   "source": [
    "drivers['drivers_with_kviut']['gender'].value_counts()"
   ]
  },
  {
   "cell_type": "markdown",
   "metadata": {},
   "source": [
    "Now, let's create a map for all the variations to be 'M' or 'F':"
   ]
  },
  {
   "cell_type": "code",
   "execution_count": 194,
   "metadata": {
    "ExecuteTime": {
     "end_time": "2020-08-11T14:03:11.068968Z",
     "start_time": "2020-08-11T14:03:11.061987Z"
    }
   },
   "outputs": [],
   "source": [
    "male_veriations_map = {v: 'M' for v in ['male', 'm', 'boy', 'M']}\n",
    "female_variation_map = {v: 'F' for v in ['F', 'woman', 'female', 'girl']}\n",
    "unknown_variation_map = {v: np.nan for v in ['none', 'unknown']}"
   ]
  },
  {
   "cell_type": "code",
   "execution_count": 195,
   "metadata": {
    "ExecuteTime": {
     "end_time": "2020-08-11T14:03:11.076949Z",
     "start_time": "2020-08-11T14:03:11.070963Z"
    }
   },
   "outputs": [],
   "source": [
    "gender_mapper = {**male_veriations_map, **female_variation_map, **unknown_variation_map}\n",
    "for df in drivers.values():\n",
    "    df['gender'] = df['gender'].map(gender_mapper)"
   ]
  },
  {
   "cell_type": "markdown",
   "metadata": {},
   "source": [
    "### 1.4 Concat dataframes "
   ]
  },
  {
   "cell_type": "markdown",
   "metadata": {},
   "source": [
    "Now let's concat the dataframes:"
   ]
  },
  {
   "cell_type": "code",
   "execution_count": 196,
   "metadata": {
    "ExecuteTime": {
     "end_time": "2020-08-11T14:03:11.087918Z",
     "start_time": "2020-08-11T14:03:11.078942Z"
    }
   },
   "outputs": [],
   "source": [
    "drivers['drivers'] = pd.concat([drivers['new_drivers'].drop('vetek_days', axis=1), drivers['drivers_with_kviut']], sort=False)\n",
    "drivers['drivers'].drop('birthdate', axis=1, inplace=True)"
   ]
  },
  {
   "cell_type": "markdown",
   "metadata": {},
   "source": [
    "## 2. Taarifs data "
   ]
  },
  {
   "cell_type": "code",
   "execution_count": 197,
   "metadata": {
    "ExecuteTime": {
     "end_time": "2020-08-11T14:03:11.096943Z",
     "start_time": "2020-08-11T14:03:11.089913Z"
    }
   },
   "outputs": [],
   "source": [
    "taarif = pd.read_csv('data/taarif.csv')"
   ]
  },
  {
   "cell_type": "code",
   "execution_count": 198,
   "metadata": {
    "ExecuteTime": {
     "end_time": "2020-08-11T14:03:11.106897Z",
     "start_time": "2020-08-11T14:03:11.099886Z"
    },
    "scrolled": false
   },
   "outputs": [
    {
     "name": "stdout",
     "output_type": "stream",
     "text": [
      "<class 'pandas.core.frame.DataFrame'>\n",
      "RangeIndex: 13 entries, 0 to 12\n",
      "Data columns (total 5 columns):\n",
      "customer         12 non-null object\n",
      "basic_taarif     11 non-null float64\n",
      "extra_milage     10 non-null float64\n",
      "night_bonus      11 non-null float64\n",
      "weekend_bonus    11 non-null float64\n",
      "dtypes: float64(4), object(1)\n",
      "memory usage: 600.0+ bytes\n"
     ]
    }
   ],
   "source": [
    "taarif.info()"
   ]
  },
  {
   "cell_type": "code",
   "execution_count": 199,
   "metadata": {
    "ExecuteTime": {
     "end_time": "2020-08-11T14:03:11.121827Z",
     "start_time": "2020-08-11T14:03:11.109858Z"
    }
   },
   "outputs": [
    {
     "data": {
      "text/html": [
       "<div>\n",
       "<style scoped>\n",
       "    .dataframe tbody tr th:only-of-type {\n",
       "        vertical-align: middle;\n",
       "    }\n",
       "\n",
       "    .dataframe tbody tr th {\n",
       "        vertical-align: top;\n",
       "    }\n",
       "\n",
       "    .dataframe thead th {\n",
       "        text-align: right;\n",
       "    }\n",
       "</style>\n",
       "<table border=\"1\" class=\"dataframe\">\n",
       "  <thead>\n",
       "    <tr style=\"text-align: right;\">\n",
       "      <th></th>\n",
       "      <th>customer</th>\n",
       "      <th>basic_taarif</th>\n",
       "      <th>extra_milage</th>\n",
       "      <th>night_bonus</th>\n",
       "      <th>weekend_bonus</th>\n",
       "    </tr>\n",
       "  </thead>\n",
       "  <tbody>\n",
       "    <tr>\n",
       "      <th>0</th>\n",
       "      <td>NaN</td>\n",
       "      <td>NaN</td>\n",
       "      <td>NaN</td>\n",
       "      <td>NaN</td>\n",
       "      <td>NaN</td>\n",
       "    </tr>\n",
       "    <tr>\n",
       "      <th>1</th>\n",
       "      <td>jerusalem_muni</td>\n",
       "      <td>8.0</td>\n",
       "      <td>40.0</td>\n",
       "      <td>50.0</td>\n",
       "      <td>30.0</td>\n",
       "    </tr>\n",
       "    <tr>\n",
       "      <th>2</th>\n",
       "      <td>intel</td>\n",
       "      <td>8.0</td>\n",
       "      <td>6.0</td>\n",
       "      <td>20.0</td>\n",
       "      <td>0.0</td>\n",
       "    </tr>\n",
       "    <tr>\n",
       "      <th>3</th>\n",
       "      <td>mizranei_kfar_saba</td>\n",
       "      <td>15.0</td>\n",
       "      <td>4.0</td>\n",
       "      <td>0.0</td>\n",
       "      <td>25.0</td>\n",
       "    </tr>\n",
       "    <tr>\n",
       "      <th>4</th>\n",
       "      <td>dbs</td>\n",
       "      <td>10.0</td>\n",
       "      <td>8.0</td>\n",
       "      <td>0.0</td>\n",
       "      <td>25.0</td>\n",
       "    </tr>\n",
       "    <tr>\n",
       "      <th>5</th>\n",
       "      <td>tnuva</td>\n",
       "      <td>6.0</td>\n",
       "      <td>3.0</td>\n",
       "      <td>80.0</td>\n",
       "      <td>0.0</td>\n",
       "    </tr>\n",
       "    <tr>\n",
       "      <th>6</th>\n",
       "      <td>angel</td>\n",
       "      <td>1.0</td>\n",
       "      <td>5.0</td>\n",
       "      <td>100.0</td>\n",
       "      <td>0.0</td>\n",
       "    </tr>\n",
       "    <tr>\n",
       "      <th>7</th>\n",
       "      <td>telecommunication_ltd</td>\n",
       "      <td>7.0</td>\n",
       "      <td>7.0</td>\n",
       "      <td>10.0</td>\n",
       "      <td>40.0</td>\n",
       "    </tr>\n",
       "    <tr>\n",
       "      <th>8</th>\n",
       "      <td>osem</td>\n",
       "      <td>12.0</td>\n",
       "      <td>4.0</td>\n",
       "      <td>20.0</td>\n",
       "      <td>0.0</td>\n",
       "    </tr>\n",
       "    <tr>\n",
       "      <th>9</th>\n",
       "      <td>iaf</td>\n",
       "      <td>20.0</td>\n",
       "      <td>10.0</td>\n",
       "      <td>200.0</td>\n",
       "      <td>500.0</td>\n",
       "    </tr>\n",
       "    <tr>\n",
       "      <th>10</th>\n",
       "      <td>tara</td>\n",
       "      <td>6.0</td>\n",
       "      <td>6.0</td>\n",
       "      <td>50.0</td>\n",
       "      <td>30.0</td>\n",
       "    </tr>\n",
       "    <tr>\n",
       "      <th>11</th>\n",
       "      <td>electricity</td>\n",
       "      <td>10.0</td>\n",
       "      <td>NaN</td>\n",
       "      <td>40.0</td>\n",
       "      <td>70000.0</td>\n",
       "    </tr>\n",
       "    <tr>\n",
       "      <th>12</th>\n",
       "      <td>bituch_leumi</td>\n",
       "      <td>NaN</td>\n",
       "      <td>NaN</td>\n",
       "      <td>NaN</td>\n",
       "      <td>NaN</td>\n",
       "    </tr>\n",
       "  </tbody>\n",
       "</table>\n",
       "</div>"
      ],
      "text/plain": [
       "                 customer  basic_taarif  extra_milage  night_bonus  \\\n",
       "0                     NaN           NaN           NaN          NaN   \n",
       "1          jerusalem_muni           8.0          40.0         50.0   \n",
       "2                   intel           8.0           6.0         20.0   \n",
       "3      mizranei_kfar_saba          15.0           4.0          0.0   \n",
       "4                     dbs          10.0           8.0          0.0   \n",
       "5                   tnuva           6.0           3.0         80.0   \n",
       "6                   angel           1.0           5.0        100.0   \n",
       "7   telecommunication_ltd           7.0           7.0         10.0   \n",
       "8                    osem          12.0           4.0         20.0   \n",
       "9                     iaf          20.0          10.0        200.0   \n",
       "10                   tara           6.0           6.0         50.0   \n",
       "11            electricity          10.0           NaN         40.0   \n",
       "12           bituch_leumi           NaN           NaN          NaN   \n",
       "\n",
       "    weekend_bonus  \n",
       "0             NaN  \n",
       "1            30.0  \n",
       "2             0.0  \n",
       "3            25.0  \n",
       "4            25.0  \n",
       "5             0.0  \n",
       "6             0.0  \n",
       "7            40.0  \n",
       "8             0.0  \n",
       "9           500.0  \n",
       "10           30.0  \n",
       "11        70000.0  \n",
       "12            NaN  "
      ]
     },
     "execution_count": 199,
     "metadata": {},
     "output_type": "execute_result"
    }
   ],
   "source": [
    "taarif"
   ]
  },
  {
   "cell_type": "code",
   "execution_count": 200,
   "metadata": {
    "ExecuteTime": {
     "end_time": "2020-08-11T14:03:11.128808Z",
     "start_time": "2020-08-11T14:03:11.123822Z"
    }
   },
   "outputs": [],
   "source": [
    "taarif.dropna(how='all', inplace=True)"
   ]
  },
  {
   "cell_type": "markdown",
   "metadata": {
    "ExecuteTime": {
     "end_time": "2020-08-10T07:26:31.270650Z",
     "start_time": "2020-08-10T07:26:31.262677Z"
    }
   },
   "source": [
    "According to the costumer, the basic_taarif of bituch_leumi is 5 with no bonuses.  \n",
    "In addition, the electricity's extra_milage is 5.0 and the weekend bonus is 70:"
   ]
  },
  {
   "cell_type": "code",
   "execution_count": 201,
   "metadata": {
    "ExecuteTime": {
     "end_time": "2020-08-11T14:03:11.141774Z",
     "start_time": "2020-08-11T14:03:11.130803Z"
    }
   },
   "outputs": [],
   "source": [
    "taarif.fillna(0, inplace=True)\n",
    "taarif.loc[taarif['customer'] == 'bituch_leumi','basic_taarif'] = 5.\n",
    "taarif.loc[taarif['customer'] == 'electricity','extra_milage'] = 5.\n",
    "taarif.loc[taarif['customer'] == 'electricity','weekend_bonus'] = 70."
   ]
  },
  {
   "cell_type": "markdown",
   "metadata": {},
   "source": [
    "## 3. Trips data "
   ]
  },
  {
   "cell_type": "markdown",
   "metadata": {},
   "source": [
    "The trips data accessible via a folder that consists csv for every month and track.  \n",
    "Each file named by `<month year>_<track_id>`."
   ]
  },
  {
   "cell_type": "code",
   "execution_count": 202,
   "metadata": {
    "ExecuteTime": {
     "end_time": "2020-08-11T14:03:11.154739Z",
     "start_time": "2020-08-11T14:03:11.143770Z"
    }
   },
   "outputs": [],
   "source": [
    "class TripsMerger(object):\n",
    "    def __init__(self):\n",
    "        self.months = set()\n",
    "        self.track_ids = set()\n",
    "        self.trips = dict()\n",
    "        self.trips_per_months = dict()\n",
    "        self.all_trips = None\n",
    "    \n",
    "    def load_trips(self, path):\n",
    "        self.file_names = os.listdir(path)\n",
    "        for file_name in self.file_names:\n",
    "            month, track_id = file_name.split('_')\n",
    "            track_id = track_id.split('.')[0]\n",
    "            if not track_id.isnumeric():\n",
    "                continue\n",
    "            self.months.add(month)\n",
    "            self.track_ids.add(track_id)\n",
    "            \n",
    "            if month not in self.trips:\n",
    "                self.trips[month] = dict()\n",
    "            \n",
    "            df = pd.read_csv(os.path.join(path, file_name))\n",
    "            df.drop('Unnamed: 0', axis=1, inplace=True)\n",
    "            df['track_id'] = track_id\n",
    "            df['month'] = pd.to_datetime(month)\n",
    "            df['start_time'] = pd.to_datetime(df['start_time'])\n",
    "            df['end_time'] = pd.to_datetime(df['end_time'])\n",
    "            self.trips[month][track_id] = df\n",
    "            \n",
    "    \n",
    "    def aggregate_tracks(self):\n",
    "        for month in self.months:\n",
    "            self.trips_per_months[month] = pd.concat(self.trips[month].values(), ignore_index=True)\n",
    "    \n",
    "    def aggregate_months(self):\n",
    "        if len(self.trips_per_months) == 0:\n",
    "            self.aggregate_tracks()\n",
    "        self.all_trips = pd.concat(self.trips_per_months.values(), ignore_index=True)\n",
    "    "
   ]
  },
  {
   "cell_type": "code",
   "execution_count": 203,
   "metadata": {
    "ExecuteTime": {
     "end_time": "2020-08-11T14:03:53.052378Z",
     "start_time": "2020-08-11T14:03:11.156733Z"
    }
   },
   "outputs": [],
   "source": [
    "trips_dir = 'data/trips_data/'\n",
    "merger = TripsMerger()\n",
    "merger.load_trips(trips_dir)\n",
    "merger.aggregate_months()"
   ]
  },
  {
   "cell_type": "code",
   "execution_count": 204,
   "metadata": {
    "ExecuteTime": {
     "end_time": "2020-08-11T14:03:53.194148Z",
     "start_time": "2020-08-11T14:03:53.052378Z"
    },
    "scrolled": true
   },
   "outputs": [
    {
     "name": "stdout",
     "output_type": "stream",
     "text": [
      "<class 'pandas.core.frame.DataFrame'>\n",
      "RangeIndex: 318181 entries, 0 to 318180\n",
      "Data columns (total 7 columns):\n",
      "customer      318181 non-null object\n",
      "driver_id     318181 non-null int64\n",
      "end_time      315098 non-null datetime64[ns]\n",
      "km            318181 non-null float64\n",
      "start_time    315032 non-null datetime64[ns]\n",
      "track_id      318181 non-null object\n",
      "month         318181 non-null datetime64[ns]\n",
      "dtypes: datetime64[ns](3), float64(1), int64(1), object(2)\n",
      "memory usage: 17.0+ MB\n"
     ]
    }
   ],
   "source": [
    "merger.all_trips.info()"
   ]
  },
  {
   "cell_type": "code",
   "execution_count": 205,
   "metadata": {
    "ExecuteTime": {
     "end_time": "2020-08-11T14:03:53.269946Z",
     "start_time": "2020-08-11T14:03:53.197140Z"
    }
   },
   "outputs": [
    {
     "data": {
      "text/html": [
       "<div>\n",
       "<style scoped>\n",
       "    .dataframe tbody tr th:only-of-type {\n",
       "        vertical-align: middle;\n",
       "    }\n",
       "\n",
       "    .dataframe tbody tr th {\n",
       "        vertical-align: top;\n",
       "    }\n",
       "\n",
       "    .dataframe thead th {\n",
       "        text-align: right;\n",
       "    }\n",
       "</style>\n",
       "<table border=\"1\" class=\"dataframe\">\n",
       "  <thead>\n",
       "    <tr style=\"text-align: right;\">\n",
       "      <th></th>\n",
       "      <th>driver_id</th>\n",
       "      <th>km</th>\n",
       "    </tr>\n",
       "  </thead>\n",
       "  <tbody>\n",
       "    <tr>\n",
       "      <th>count</th>\n",
       "      <td>318181.000000</td>\n",
       "      <td>318181.000000</td>\n",
       "    </tr>\n",
       "    <tr>\n",
       "      <th>mean</th>\n",
       "      <td>500.579384</td>\n",
       "      <td>346.807038</td>\n",
       "    </tr>\n",
       "    <tr>\n",
       "      <th>std</th>\n",
       "      <td>288.637042</td>\n",
       "      <td>321.241428</td>\n",
       "    </tr>\n",
       "    <tr>\n",
       "      <th>min</th>\n",
       "      <td>1.000000</td>\n",
       "      <td>3.493996</td>\n",
       "    </tr>\n",
       "    <tr>\n",
       "      <th>25%</th>\n",
       "      <td>251.000000</td>\n",
       "      <td>173.615246</td>\n",
       "    </tr>\n",
       "    <tr>\n",
       "      <th>50%</th>\n",
       "      <td>501.000000</td>\n",
       "      <td>315.218656</td>\n",
       "    </tr>\n",
       "    <tr>\n",
       "      <th>75%</th>\n",
       "      <td>751.000000</td>\n",
       "      <td>458.813839</td>\n",
       "    </tr>\n",
       "    <tr>\n",
       "      <th>max</th>\n",
       "      <td>1000.000000</td>\n",
       "      <td>9685.619198</td>\n",
       "    </tr>\n",
       "  </tbody>\n",
       "</table>\n",
       "</div>"
      ],
      "text/plain": [
       "           driver_id             km\n",
       "count  318181.000000  318181.000000\n",
       "mean      500.579384     346.807038\n",
       "std       288.637042     321.241428\n",
       "min         1.000000       3.493996\n",
       "25%       251.000000     173.615246\n",
       "50%       501.000000     315.218656\n",
       "75%       751.000000     458.813839\n",
       "max      1000.000000    9685.619198"
      ]
     },
     "execution_count": 205,
     "metadata": {},
     "output_type": "execute_result"
    }
   ],
   "source": [
    "merger.all_trips.describe()"
   ]
  },
  {
   "cell_type": "markdown",
   "metadata": {},
   "source": [
    "### 3.1 Handle Km "
   ]
  },
  {
   "cell_type": "markdown",
   "metadata": {},
   "source": [
    "Let's take a look over the 'km' column distribution"
   ]
  },
  {
   "cell_type": "code",
   "execution_count": 206,
   "metadata": {
    "ExecuteTime": {
     "end_time": "2020-08-11T14:03:53.891607Z",
     "start_time": "2020-08-11T14:03:53.273936Z"
    },
    "scrolled": true
   },
   "outputs": [
    {
     "data": {
      "text/plain": [
       "<matplotlib.axes._subplots.AxesSubplot at 0x12f1f405550>"
      ]
     },
     "execution_count": 206,
     "metadata": {},
     "output_type": "execute_result"
    },
    {
     "data": {
      "image/png": "[encoded data removed]",
      "text/plain": [
       "<Figure size 864x576 with 1 Axes>"
      ]
     },
     "metadata": {
      "needs_background": "light"
     },
     "output_type": "display_data"
    }
   ],
   "source": [
    "fig = plt.figure(figsize=(12,8))\n",
    "sns.boxplot(x='customer', y='km', data=merger.all_trips)"
   ]
  },
  {
   "cell_type": "code",
   "execution_count": 207,
   "metadata": {
    "ExecuteTime": {
     "end_time": "2020-08-11T14:03:55.865045Z",
     "start_time": "2020-08-11T14:03:53.893602Z"
    }
   },
   "outputs": [
    {
     "data": {
      "image/png": "[encoded data removed]",
      "text/plain": [
       "<Figure size 1440x576 with 1 Axes>"
      ]
     },
     "metadata": {
      "needs_background": "light"
     },
     "output_type": "display_data"
    }
   ],
   "source": [
    "fig = plt.figure(figsize=(20,8))\n",
    "ax = sns.distplot(merger.all_trips['km'])\n",
    "ax.xaxis.set_major_locator(ticker.MultipleLocator(200))\n",
    "ax.xaxis.set_major_formatter(ticker.ScalarFormatter())"
   ]
  },
  {
   "cell_type": "markdown",
   "metadata": {},
   "source": [
    "There are some trip of more than 1000km!  \n",
    "So we'll take a threshold of 750km, and for all the trips above the threshold get the value of 750."
   ]
  },
  {
   "cell_type": "code",
   "execution_count": 208,
   "metadata": {
    "ExecuteTime": {
     "end_time": "2020-08-11T14:03:55.870033Z",
     "start_time": "2020-08-11T14:03:55.866042Z"
    }
   },
   "outputs": [],
   "source": [
    "all_trips = merger.all_trips"
   ]
  },
  {
   "cell_type": "code",
   "execution_count": 209,
   "metadata": {
    "ExecuteTime": {
     "end_time": "2020-08-11T14:03:55.889019Z",
     "start_time": "2020-08-11T14:03:55.871029Z"
    }
   },
   "outputs": [],
   "source": [
    "all_trips.loc[all_trips['km'] > 750, 'km'] = 750"
   ]
  },
  {
   "cell_type": "markdown",
   "metadata": {},
   "source": [
    "### 3.2 Handle false time reports "
   ]
  },
  {
   "cell_type": "markdown",
   "metadata": {
    "ExecuteTime": {
     "end_time": "2020-08-11T06:33:19.948118Z",
     "start_time": "2020-08-11T06:33:19.923186Z"
    }
   },
   "source": [
    "Now, we shall search for outliers:"
   ]
  },
  {
   "cell_type": "markdown",
   "metadata": {},
   "source": [
    "According to the customer, driver can't drive more than 12 hours a day.  \n",
    "In addition, track's speed is between 40-100 km\\h.  \n",
    "With this information, we can detect false kms or times reports.  \n",
    "For each trip, I'll bound the time to 12 hours and calculate the maximal and minimal km in the range above,  \n",
    "and search for unreasonable trip lengths."
   ]
  },
  {
   "cell_type": "markdown",
   "metadata": {},
   "source": [
    "#### 3.2.1 Handle too long durations "
   ]
  },
  {
   "cell_type": "markdown",
   "metadata": {},
   "source": [
    "First, we shall calculate the duration column:"
   ]
  },
  {
   "cell_type": "code",
   "execution_count": 210,
   "metadata": {
    "ExecuteTime": {
     "end_time": "2020-08-11T14:03:55.916905Z",
     "start_time": "2020-08-11T14:03:55.890976Z"
    }
   },
   "outputs": [],
   "source": [
    "all_trips['duration'] = all_trips['end_time'] - all_trips['start_time']"
   ]
  },
  {
   "cell_type": "markdown",
   "metadata": {},
   "source": [
    "Let's see if there are some too long trips:"
   ]
  },
  {
   "cell_type": "code",
   "execution_count": 211,
   "metadata": {
    "ExecuteTime": {
     "end_time": "2020-08-11T14:03:56.528383Z",
     "start_time": "2020-08-11T14:03:55.919898Z"
    }
   },
   "outputs": [
    {
     "data": {
      "text/plain": [
       "<matplotlib.axes._subplots.AxesSubplot at 0x12f17a49400>"
      ]
     },
     "execution_count": 211,
     "metadata": {},
     "output_type": "execute_result"
    },
    {
     "data": {
      "image/png": "[encoded data removed]",
      "text/plain": [
       "<Figure size 432x288 with 1 Axes>"
      ]
     },
     "metadata": {
      "needs_background": "light"
     },
     "output_type": "display_data"
    }
   ],
   "source": [
    "sns.distplot(all_trips['duration'].dt.total_seconds().dropna() / 3600, axlabel='Duration in hours')"
   ]
  },
  {
   "cell_type": "code",
   "execution_count": 212,
   "metadata": {
    "ExecuteTime": {
     "end_time": "2020-08-11T14:04:08.699159Z",
     "start_time": "2020-08-11T14:03:56.530377Z"
    }
   },
   "outputs": [],
   "source": [
    "all_trips['duration'] = all_trips['duration']\\\n",
    "                        .apply(lambda x: np.min((x , pd.to_timedelta('12 hours'))) \\\n",
    "                               if not pd.isnull(x) else pd.to_timedelta(np.nan))"
   ]
  },
  {
   "cell_type": "markdown",
   "metadata": {},
   "source": [
    "And update the end_time:"
   ]
  },
  {
   "cell_type": "code",
   "execution_count": 213,
   "metadata": {
    "ExecuteTime": {
     "end_time": "2020-08-11T14:04:08.731679Z",
     "start_time": "2020-08-11T14:04:08.705785Z"
    }
   },
   "outputs": [],
   "source": [
    "all_trips['end_time'] = all_trips['start_time'] + all_trips['duration']"
   ]
  },
  {
   "cell_type": "markdown",
   "metadata": {
    "heading_collapsed": true
   },
   "source": [
    "#### 3.2.2 Handle too fast/slow trips  "
   ]
  },
  {
   "cell_type": "markdown",
   "metadata": {
    "hidden": true
   },
   "source": [
    "Now we need to calc the avg. speed for each trip:"
   ]
  },
  {
   "cell_type": "code",
   "execution_count": 214,
   "metadata": {
    "ExecuteTime": {
     "end_time": "2020-08-11T14:04:08.758849Z",
     "start_time": "2020-08-11T14:04:08.737667Z"
    },
    "hidden": true
   },
   "outputs": [],
   "source": [
    "all_trips['trip_average_speed_km_h'] = (all_trips['km'] * 1000 / all_trips['duration'].dt.total_seconds()) * 3.6"
   ]
  },
  {
   "cell_type": "markdown",
   "metadata": {
    "hidden": true
   },
   "source": [
    "Azrieli doesn't want any of his driver get offended.  \n",
    "So I'll fix the duration (and the end_time accordingly) so the average speed will be reasonable:"
   ]
  },
  {
   "cell_type": "code",
   "execution_count": 215,
   "metadata": {
    "ExecuteTime": {
     "end_time": "2020-08-11T14:04:08.773808Z",
     "start_time": "2020-08-11T14:04:08.762836Z"
    },
    "hidden": true
   },
   "outputs": [],
   "source": [
    "too_fast_idx = all_trips['trip_average_speed_km_h'] > 100\n",
    "too_slow_idx = all_trips['trip_average_speed_km_h'] < 40"
   ]
  },
  {
   "cell_type": "code",
   "execution_count": 216,
   "metadata": {
    "ExecuteTime": {
     "end_time": "2020-08-11T14:04:08.784783Z",
     "start_time": "2020-08-11T14:04:08.777797Z"
    },
    "hidden": true
   },
   "outputs": [],
   "source": [
    "def calc_reasonable_short_duration(km):\n",
    "    meters = km * 1000\n",
    "    reasonable_speed_m_per_s = 100 / 3.6\n",
    "    return meters / reasonable_speed_m_per_s"
   ]
  },
  {
   "cell_type": "code",
   "execution_count": 217,
   "metadata": {
    "ExecuteTime": {
     "end_time": "2020-08-11T14:04:08.797744Z",
     "start_time": "2020-08-11T14:04:08.790764Z"
    },
    "hidden": true
   },
   "outputs": [],
   "source": [
    "def calc_reasonable_long_duration(km):\n",
    "    meters = km * 1000\n",
    "    reasonable_speed_m_per_s = 40 / 3.6\n",
    "    return meters / reasonable_speed_m_per_s"
   ]
  },
  {
   "cell_type": "code",
   "execution_count": 218,
   "metadata": {
    "ExecuteTime": {
     "end_time": "2020-08-11T14:04:08.845823Z",
     "start_time": "2020-08-11T14:04:08.803746Z"
    },
    "hidden": true
   },
   "outputs": [],
   "source": [
    "all_trips.loc[too_fast_idx, 'end_time'] = all_trips.loc[too_fast_idx, 'start_time'] +\\\n",
    "                                            pd.to_timedelta(all_trips.loc[too_fast_idx, 'km']\\\n",
    "                                                            .apply(calc_reasonable_short_duration), \\\n",
    "                                                            unit='s')\n",
    "all_trips.loc[too_fast_idx, 'trip_average_speed_km_h'] = 100"
   ]
  },
  {
   "cell_type": "code",
   "execution_count": 219,
   "metadata": {
    "ExecuteTime": {
     "end_time": "2020-08-11T14:04:08.880598Z",
     "start_time": "2020-08-11T14:04:08.847917Z"
    },
    "hidden": true
   },
   "outputs": [],
   "source": [
    "all_trips.loc[too_slow_idx, 'end_time'] = all_trips.loc[too_slow_idx, 'start_time'] +\\\n",
    "                                            pd.to_timedelta(all_trips.loc[too_slow_idx, 'km']\\\n",
    "                                                            .apply(calc_reasonable_long_duration), \\\n",
    "                                                            unit='s')\n",
    "all_trips.loc[too_slow_idx, 'trip_average_speed_km_h'] = 40"
   ]
  },
  {
   "cell_type": "markdown",
   "metadata": {
    "hidden": true
   },
   "source": [
    "And now re-calculate the duration:"
   ]
  },
  {
   "cell_type": "code",
   "execution_count": 220,
   "metadata": {
    "ExecuteTime": {
     "end_time": "2020-08-11T14:04:08.910518Z",
     "start_time": "2020-08-11T14:04:08.885588Z"
    },
    "hidden": true
   },
   "outputs": [],
   "source": [
    "all_trips['duration'] = all_trips['end_time'] - all_trips['start_time']"
   ]
  },
  {
   "cell_type": "markdown",
   "metadata": {},
   "source": [
    "### 3.3 Handle missing start\\end times "
   ]
  },
  {
   "cell_type": "code",
   "execution_count": 221,
   "metadata": {
    "ExecuteTime": {
     "end_time": "2020-08-11T14:04:14.325383Z",
     "start_time": "2020-08-11T14:04:08.911612Z"
    },
    "scrolled": false
   },
   "outputs": [
    {
     "data": {
      "text/plain": [
       "<matplotlib.axes._subplots.AxesSubplot at 0x12f1e5c5b70>"
      ]
     },
     "execution_count": 221,
     "metadata": {},
     "output_type": "execute_result"
    },
    {
     "data": {
      "image/png": "[encoded data removed]",
      "text/plain": [
       "<Figure size 432x288 with 1 Axes>"
      ]
     },
     "metadata": {
      "needs_background": "light"
     },
     "output_type": "display_data"
    }
   ],
   "source": [
    "sns.heatmap(merger.all_trips.isnull(), cbar=False)"
   ]
  },
  {
   "cell_type": "markdown",
   "metadata": {},
   "source": [
    "For this cases which lack of both start and end time, I'll set the start time to be the first sunday of the month at 6am (to avoid bonuses), and then handle them like the only end_time is missing "
   ]
  },
  {
   "cell_type": "markdown",
   "metadata": {},
   "source": [
    "In order to fill the NaNs in the above data frame, I'll calculate the average speed of each driver,  \n",
    "and then add/substract the avg_speed from the start/end time. "
   ]
  },
  {
   "cell_type": "code",
   "execution_count": 222,
   "metadata": {
    "ExecuteTime": {
     "end_time": "2020-08-11T14:04:15.746760Z",
     "start_time": "2020-08-11T14:04:14.331366Z"
    }
   },
   "outputs": [
    {
     "name": "stderr",
     "output_type": "stream",
     "text": [
      "C:\\ProgramData\\Anaconda3\\lib\\site-packages\\ipykernel_launcher.py:2: FutureWarning: Passing datetime64-dtype data to TimedeltaIndex is deprecated, will raise a TypeError in a future version\n",
      "  \n",
      "C:\\ProgramData\\Anaconda3\\lib\\site-packages\\ipykernel_launcher.py:3: FutureWarning: Passing datetime64-dtype data to TimedeltaIndex is deprecated, will raise a TypeError in a future version\n",
      "  This is separate from the ipykernel package so we can avoid doing imports until\n"
     ]
    }
   ],
   "source": [
    "full_trips = all_trips[['driver_id', 'start_time', 'end_time', 'km']].dropna(axis=0)\n",
    "full_trips['start_time'] = pd.to_timedelta(full_trips['start_time'])\n",
    "full_trips['end_time'] = pd.to_timedelta(full_trips['end_time'])\n",
    "full_trips['duration'] = full_trips['end_time'] - full_trips['start_time']"
   ]
  },
  {
   "cell_type": "code",
   "execution_count": 223,
   "metadata": {
    "ExecuteTime": {
     "end_time": "2020-08-11T14:04:15.768692Z",
     "start_time": "2020-08-11T14:04:15.752735Z"
    }
   },
   "outputs": [],
   "source": [
    "full_trips['speed'] = full_trips['duration'] / full_trips['km'] "
   ]
  },
  {
   "cell_type": "code",
   "execution_count": 224,
   "metadata": {
    "ExecuteTime": {
     "end_time": "2020-08-11T14:04:15.790633Z",
     "start_time": "2020-08-11T14:04:15.770687Z"
    }
   },
   "outputs": [
    {
     "data": {
      "text/html": [
       "<div>\n",
       "<style scoped>\n",
       "    .dataframe tbody tr th:only-of-type {\n",
       "        vertical-align: middle;\n",
       "    }\n",
       "\n",
       "    .dataframe tbody tr th {\n",
       "        vertical-align: top;\n",
       "    }\n",
       "\n",
       "    .dataframe thead th {\n",
       "        text-align: right;\n",
       "    }\n",
       "</style>\n",
       "<table border=\"1\" class=\"dataframe\">\n",
       "  <thead>\n",
       "    <tr style=\"text-align: right;\">\n",
       "      <th></th>\n",
       "      <th>driver_id</th>\n",
       "      <th>start_time</th>\n",
       "      <th>end_time</th>\n",
       "      <th>km</th>\n",
       "      <th>duration</th>\n",
       "      <th>speed</th>\n",
       "    </tr>\n",
       "  </thead>\n",
       "  <tbody>\n",
       "    <tr>\n",
       "      <th>0</th>\n",
       "      <td>949</td>\n",
       "      <td>16587 days 01:05:00</td>\n",
       "      <td>16587 days 04:16:00</td>\n",
       "      <td>252.820806</td>\n",
       "      <td>03:11:00</td>\n",
       "      <td>00:00:45.328547</td>\n",
       "    </tr>\n",
       "    <tr>\n",
       "      <th>2</th>\n",
       "      <td>641</td>\n",
       "      <td>16588 days 03:25:00</td>\n",
       "      <td>16588 days 04:18:00</td>\n",
       "      <td>62.763052</td>\n",
       "      <td>00:53:00</td>\n",
       "      <td>00:00:50.666752</td>\n",
       "    </tr>\n",
       "    <tr>\n",
       "      <th>3</th>\n",
       "      <td>268</td>\n",
       "      <td>16588 days 12:38:00</td>\n",
       "      <td>16588 days 15:42:00</td>\n",
       "      <td>267.968900</td>\n",
       "      <td>03:04:00</td>\n",
       "      <td>00:00:41.198810</td>\n",
       "    </tr>\n",
       "    <tr>\n",
       "      <th>4</th>\n",
       "      <td>897</td>\n",
       "      <td>16589 days 02:57:00</td>\n",
       "      <td>16589 days 07:40:00</td>\n",
       "      <td>379.727611</td>\n",
       "      <td>04:43:00</td>\n",
       "      <td>00:00:44.716263</td>\n",
       "    </tr>\n",
       "    <tr>\n",
       "      <th>5</th>\n",
       "      <td>466</td>\n",
       "      <td>16589 days 14:27:00</td>\n",
       "      <td>16589 days 17:47:00</td>\n",
       "      <td>234.929297</td>\n",
       "      <td>03:20:00</td>\n",
       "      <td>00:00:51.079197</td>\n",
       "    </tr>\n",
       "  </tbody>\n",
       "</table>\n",
       "</div>"
      ],
      "text/plain": [
       "   driver_id          start_time            end_time          km duration  \\\n",
       "0        949 16587 days 01:05:00 16587 days 04:16:00  252.820806 03:11:00   \n",
       "2        641 16588 days 03:25:00 16588 days 04:18:00   62.763052 00:53:00   \n",
       "3        268 16588 days 12:38:00 16588 days 15:42:00  267.968900 03:04:00   \n",
       "4        897 16589 days 02:57:00 16589 days 07:40:00  379.727611 04:43:00   \n",
       "5        466 16589 days 14:27:00 16589 days 17:47:00  234.929297 03:20:00   \n",
       "\n",
       "            speed  \n",
       "0 00:00:45.328547  \n",
       "2 00:00:50.666752  \n",
       "3 00:00:41.198810  \n",
       "4 00:00:44.716263  \n",
       "5 00:00:51.079197  "
      ]
     },
     "execution_count": 224,
     "metadata": {},
     "output_type": "execute_result"
    }
   ],
   "source": [
    "full_trips.head()"
   ]
  },
  {
   "cell_type": "code",
   "execution_count": 225,
   "metadata": {
    "ExecuteTime": {
     "end_time": "2020-08-11T14:04:18.396608Z",
     "start_time": "2020-08-11T14:04:15.794622Z"
    }
   },
   "outputs": [],
   "source": [
    "def timedelta_avg(vals):\n",
    "    return pd.to_timedelta(np.mean(np.asarray([val.value for val in vals])))\n",
    "full_trips['driver_avg_speed'] = full_trips.groupby('driver_id')['speed'].transform(timedelta_avg)"
   ]
  },
  {
   "cell_type": "markdown",
   "metadata": {},
   "source": [
    "Now let's add the driver_avg_speed to the drivers' data frame"
   ]
  },
  {
   "cell_type": "code",
   "execution_count": 226,
   "metadata": {
    "ExecuteTime": {
     "end_time": "2020-08-11T14:04:18.486049Z",
     "start_time": "2020-08-11T14:04:18.396608Z"
    }
   },
   "outputs": [],
   "source": [
    "drivers_avg_speed = full_trips.rename(columns={'driver_id': 'id'})[['id', 'driver_avg_speed']].drop_duplicates()\n",
    "drivers['drivers'] = pd.merge(drivers['drivers'], drivers_avg_speed)"
   ]
  },
  {
   "cell_type": "markdown",
   "metadata": {},
   "source": [
    "Now, we need to calculate the missing start/end time"
   ]
  },
  {
   "cell_type": "markdown",
   "metadata": {},
   "source": [
    "For the cases which lack of both start and end time, I'll set the start time to be the first sunday of the month at 6am (to avoid bonuses), and then handle them like the only end_time is missing "
   ]
  },
  {
   "cell_type": "code",
   "execution_count": 227,
   "metadata": {
    "ExecuteTime": {
     "end_time": "2020-08-11T14:04:18.495708Z",
     "start_time": "2020-08-11T14:04:18.489006Z"
    }
   },
   "outputs": [],
   "source": [
    "def get_first_work_day(month):\n",
    "    offset = pd.offsets.BMonthBegin()\n",
    "    return offset.rollback(month) + pd.to_timedelta('6 hours')"
   ]
  },
  {
   "cell_type": "code",
   "execution_count": 228,
   "metadata": {
    "ExecuteTime": {
     "end_time": "2020-08-11T14:04:30.297890Z",
     "start_time": "2020-08-11T14:04:18.500710Z"
    }
   },
   "outputs": [],
   "source": [
    "no_time_at_all_idx = all_trips['end_time'].isnull() & all_trips['start_time'].isnull()\n",
    "all_trips.loc[no_time_at_all_idx, 'start_time'] = all_trips['month'].apply(get_first_work_day)"
   ]
  },
  {
   "cell_type": "code",
   "execution_count": 229,
   "metadata": {
    "ExecuteTime": {
     "end_time": "2020-08-11T14:04:30.319926Z",
     "start_time": "2020-08-11T14:04:30.297890Z"
    }
   },
   "outputs": [],
   "source": [
    "no_end_times = all_trips[all_trips['end_time'].isnull()].fillna(np.nan)\n",
    "no_start_times = all_trips[all_trips['start_time'].isnull()].fillna(np.nan)"
   ]
  },
  {
   "cell_type": "markdown",
   "metadata": {},
   "source": [
    "Adding the driver_average_speed column:"
   ]
  },
  {
   "cell_type": "code",
   "execution_count": 230,
   "metadata": {
    "ExecuteTime": {
     "end_time": "2020-08-11T14:04:30.355826Z",
     "start_time": "2020-08-11T14:04:30.323915Z"
    }
   },
   "outputs": [],
   "source": [
    "no_end_times = no_end_times.reset_index().merge(drivers_avg_speed.rename(columns={'id':'driver_id'})).set_index('index')\n",
    "no_start_times = no_start_times.reset_index().merge(drivers_avg_speed.rename(columns={'id':'driver_id'})).set_index('index')"
   ]
  },
  {
   "cell_type": "markdown",
   "metadata": {},
   "source": [
    "And calc the missed time by the velocity and the distance:"
   ]
  },
  {
   "cell_type": "code",
   "execution_count": 231,
   "metadata": {
    "ExecuteTime": {
     "end_time": "2020-08-11T14:04:30.380760Z",
     "start_time": "2020-08-11T14:04:30.360817Z"
    }
   },
   "outputs": [],
   "source": [
    "no_end_times['end_time'] = pd.to_timedelta(no_end_times['driver_avg_speed'].dt.total_seconds() *\\\n",
    "                                           no_end_times['km'], unit='s') + no_end_times['start_time'] \n",
    "no_start_times['start_time'] = no_start_times['end_time'] -\\\n",
    "                        pd.to_timedelta(no_start_times['driver_avg_speed'].dt.total_seconds() * no_start_times['km'], unit='s') "
   ]
  },
  {
   "cell_type": "code",
   "execution_count": 232,
   "metadata": {
    "ExecuteTime": {
     "end_time": "2020-08-11T14:04:30.409682Z",
     "start_time": "2020-08-11T14:04:30.384750Z"
    }
   },
   "outputs": [],
   "source": [
    "all_trips.loc[no_end_times.index, 'end_time'] = no_end_times['end_time']\n",
    "all_trips.loc[no_start_times.index, 'start_time'] = no_start_times['start_time']"
   ]
  },
  {
   "cell_type": "markdown",
   "metadata": {
    "ExecuteTime": {
     "end_time": "2020-08-11T11:53:32.365253Z",
     "start_time": "2020-08-11T11:53:32.330319Z"
    }
   },
   "source": [
    "Now we can re-calc the durations and the average speed:"
   ]
  },
  {
   "cell_type": "code",
   "execution_count": 233,
   "metadata": {
    "ExecuteTime": {
     "end_time": "2020-08-11T14:04:30.454566Z",
     "start_time": "2020-08-11T14:04:30.414673Z"
    }
   },
   "outputs": [],
   "source": [
    "all_trips['duration'] = all_trips['end_time'] - all_trips['start_time']\n",
    "all_trips['trip_average_speed_km_h'] = (all_trips['km'] * 1000 / all_trips['duration'].dt.total_seconds()) * 3.6"
   ]
  },
  {
   "cell_type": "code",
   "execution_count": 234,
   "metadata": {
    "ExecuteTime": {
     "end_time": "2020-08-11T14:04:30.609148Z",
     "start_time": "2020-08-11T14:04:30.458551Z"
    }
   },
   "outputs": [
    {
     "data": {
      "text/html": [
       "<div>\n",
       "<style scoped>\n",
       "    .dataframe tbody tr th:only-of-type {\n",
       "        vertical-align: middle;\n",
       "    }\n",
       "\n",
       "    .dataframe tbody tr th {\n",
       "        vertical-align: top;\n",
       "    }\n",
       "\n",
       "    .dataframe thead th {\n",
       "        text-align: right;\n",
       "    }\n",
       "</style>\n",
       "<table border=\"1\" class=\"dataframe\">\n",
       "  <thead>\n",
       "    <tr style=\"text-align: right;\">\n",
       "      <th></th>\n",
       "      <th>driver_id</th>\n",
       "      <th>km</th>\n",
       "      <th>duration</th>\n",
       "      <th>trip_average_speed_km_h</th>\n",
       "    </tr>\n",
       "  </thead>\n",
       "  <tbody>\n",
       "    <tr>\n",
       "      <th>count</th>\n",
       "      <td>318181.000000</td>\n",
       "      <td>318181.000000</td>\n",
       "      <td>318181</td>\n",
       "      <td>318181.000000</td>\n",
       "    </tr>\n",
       "    <tr>\n",
       "      <th>mean</th>\n",
       "      <td>500.579384</td>\n",
       "      <td>322.656840</td>\n",
       "      <td>0 days 04:18:34.959124</td>\n",
       "      <td>74.755963</td>\n",
       "    </tr>\n",
       "    <tr>\n",
       "      <th>std</th>\n",
       "      <td>288.637042</td>\n",
       "      <td>176.152260</td>\n",
       "      <td>0 days 02:18:26.308143</td>\n",
       "      <td>9.507012</td>\n",
       "    </tr>\n",
       "    <tr>\n",
       "      <th>min</th>\n",
       "      <td>1.000000</td>\n",
       "      <td>3.493996</td>\n",
       "      <td>0 days 00:05:14.459677</td>\n",
       "      <td>40.000000</td>\n",
       "    </tr>\n",
       "    <tr>\n",
       "      <th>25%</th>\n",
       "      <td>251.000000</td>\n",
       "      <td>173.615246</td>\n",
       "      <td>0 days 02:21:00</td>\n",
       "      <td>67.303201</td>\n",
       "    </tr>\n",
       "    <tr>\n",
       "      <th>50%</th>\n",
       "      <td>501.000000</td>\n",
       "      <td>315.218656</td>\n",
       "      <td>0 days 04:15:00</td>\n",
       "      <td>74.553830</td>\n",
       "    </tr>\n",
       "    <tr>\n",
       "      <th>75%</th>\n",
       "      <td>751.000000</td>\n",
       "      <td>458.813839</td>\n",
       "      <td>0 days 06:11:00</td>\n",
       "      <td>82.433731</td>\n",
       "    </tr>\n",
       "    <tr>\n",
       "      <th>max</th>\n",
       "      <td>1000.000000</td>\n",
       "      <td>750.000000</td>\n",
       "      <td>0 days 12:00:00</td>\n",
       "      <td>100.000000</td>\n",
       "    </tr>\n",
       "  </tbody>\n",
       "</table>\n",
       "</div>"
      ],
      "text/plain": [
       "           driver_id             km                duration  \\\n",
       "count  318181.000000  318181.000000                  318181   \n",
       "mean      500.579384     322.656840  0 days 04:18:34.959124   \n",
       "std       288.637042     176.152260  0 days 02:18:26.308143   \n",
       "min         1.000000       3.493996  0 days 00:05:14.459677   \n",
       "25%       251.000000     173.615246         0 days 02:21:00   \n",
       "50%       501.000000     315.218656         0 days 04:15:00   \n",
       "75%       751.000000     458.813839         0 days 06:11:00   \n",
       "max      1000.000000     750.000000         0 days 12:00:00   \n",
       "\n",
       "       trip_average_speed_km_h  \n",
       "count            318181.000000  \n",
       "mean                 74.755963  \n",
       "std                   9.507012  \n",
       "min                  40.000000  \n",
       "25%                  67.303201  \n",
       "50%                  74.553830  \n",
       "75%                  82.433731  \n",
       "max                 100.000000  "
      ]
     },
     "execution_count": 234,
     "metadata": {},
     "output_type": "execute_result"
    }
   ],
   "source": [
    "all_trips.describe()"
   ]
  },
  {
   "cell_type": "markdown",
   "metadata": {},
   "source": [
    "## 4. Summarize the data"
   ]
  },
  {
   "cell_type": "markdown",
   "metadata": {},
   "source": [
    "Now we need to summarize the data: sum the km per driver per month,  \n",
    "calc the income for each trip and sum it all."
   ]
  },
  {
   "cell_type": "markdown",
   "metadata": {},
   "source": [
    "### 4.1 Calculate the incomes "
   ]
  },
  {
   "cell_type": "markdown",
   "metadata": {},
   "source": [
    "We should split the trips by the times.  \n",
    "The bonuses are added by the following rules:\n",
    "- The night bonus added between 22\\:00-06\\:00.\n",
    "- The weekend bonus added between Friday, 16:00 until Saturday, 20:00\n",
    "- The extra milage bonus added for each km after the 200th.\n",
    "- There are double bonuses"
   ]
  },
  {
   "cell_type": "markdown",
   "metadata": {},
   "source": [
    "### 4.1.1 Calc the amount of KMs for each bonus "
   ]
  },
  {
   "cell_type": "markdown",
   "metadata": {},
   "source": [
    "I'd like to add columns to the trips table for every kind of rates."
   ]
  },
  {
   "cell_type": "code",
   "execution_count": 254,
   "metadata": {
    "ExecuteTime": {
     "end_time": "2020-08-12T06:21:19.838923Z",
     "start_time": "2020-08-12T06:21:19.833978Z"
    }
   },
   "outputs": [],
   "source": [
    "def calc_night_bonuses(row):\n",
    "    if row['start_time'].hour > 22 or row['start_time'].hour < 6:\n",
    "        return (min(row['duration'], pd.to_timedelta('8h')) / row['duration']) * row.km\n",
    "    return 0"
   ]
  },
  {
   "cell_type": "code",
   "execution_count": 277,
   "metadata": {
    "ExecuteTime": {
     "end_time": "2020-08-12T06:59:49.480702Z",
     "start_time": "2020-08-12T06:59:49.475715Z"
    }
   },
   "outputs": [],
   "source": [
    "def calc_weekend_bonuses(row):\n",
    "    if (row['start_time'].day == 4 and row['start_time'].hour > 16) or\\\n",
    "        (row['start_time'].day == 5 and row['start_time'].hour < 20):\n",
    "        offset = pd.offsets.DateOffset(weekday=5, hour=20)\n",
    "        return (min(row['duration'], pd.to_timedelta('8h')) / row['duration']) * row.km\n",
    "    return 0"
   ]
  },
  {
   "cell_type": "code",
   "execution_count": 284,
   "metadata": {
    "ExecuteTime": {
     "end_time": "2020-08-12T07:43:55.653242Z",
     "start_time": "2020-08-12T07:43:55.649295Z"
    }
   },
   "outputs": [],
   "source": [
    "def calc_extra_milage_bonuses(row):\n",
    "    return max(0, row['km'] - 200)"
   ]
  },
  {
   "cell_type": "code",
   "execution_count": 285,
   "metadata": {
    "ExecuteTime": {
     "end_time": "2020-08-12T07:46:11.217826Z",
     "start_time": "2020-08-12T07:45:28.920724Z"
    }
   },
   "outputs": [],
   "source": [
    "all_trips['night_bonuses'] = all_trips.apply(calc_night_bonuses, axis=1)\n",
    "all_trips['weekend_bonuses'] = all_trips.apply(calc_weekend_bonuses, axis=1)\n",
    "all_trips['extra_milage_bonuses'] = all_trips.apply(calc_extra_milage_bonuses, axis=1)"
   ]
  },
  {
   "cell_type": "markdown",
   "metadata": {},
   "source": [
    "### 4.1.2 Group rates by company "
   ]
  },
  {
   "cell_type": "markdown",
   "metadata": {},
   "source": [
    "Let's check that all the companies isted in the all_trip table, listed in the taarif tabel either:"
   ]
  },
  {
   "cell_type": "code",
   "execution_count": 305,
   "metadata": {
    "ExecuteTime": {
     "end_time": "2020-08-12T08:06:39.949357Z",
     "start_time": "2020-08-12T08:06:39.911459Z"
    }
   },
   "outputs": [
    {
     "data": {
      "text/plain": [
       "{'dbs', 'mizranei_kfar_saba', 'telecommunication_ltd'}"
      ]
     },
     "execution_count": 305,
     "metadata": {},
     "output_type": "execute_result"
    }
   ],
   "source": [
    "set(taarif['customer']).difference(set(all_trips['customer']))"
   ]
  },
  {
   "cell_type": "code",
   "execution_count": 306,
   "metadata": {
    "ExecuteTime": {
     "end_time": "2020-08-12T08:06:41.983600Z",
     "start_time": "2020-08-12T08:06:41.945701Z"
    }
   },
   "outputs": [
    {
     "data": {
      "text/plain": [
       "{'aminach', 'hot', 'yes'}"
      ]
     },
     "execution_count": 306,
     "metadata": {},
     "output_type": "execute_result"
    }
   ],
   "source": [
    "set(all_trips['customer']).difference(set(taarif['customer']))"
   ]
  },
  {
   "cell_type": "markdown",
   "metadata": {
    "ExecuteTime": {
     "end_time": "2020-08-12T07:57:48.278400Z",
     "start_time": "2020-08-12T07:57:48.270457Z"
    }
   },
   "source": [
    "According to Azrieli, 'yes' is equivalent to 'dbs', 'aminach' to 'mizranei_kfar_saba' and 'hot' to 'telecommunication_ltd'."
   ]
  },
  {
   "cell_type": "code",
   "execution_count": 310,
   "metadata": {
    "ExecuteTime": {
     "end_time": "2020-08-12T08:12:09.695322Z",
     "start_time": "2020-08-12T08:12:09.691338Z"
    }
   },
   "outputs": [],
   "source": [
    "companies_mapper = {'mizranei_kfar_saba': 'aminach', 'telecommunication_ltd': 'hot', 'dbs': 'yes'}\n",
    "taarif['customer'] = taarif['customer'].replace(companies_mapper)"
   ]
  },
  {
   "cell_type": "code",
   "execution_count": 316,
   "metadata": {
    "ExecuteTime": {
     "end_time": "2020-08-12T08:17:26.062567Z",
     "start_time": "2020-08-12T08:17:26.038639Z"
    }
   },
   "outputs": [
    {
     "data": {
      "text/html": [
       "<div>\n",
       "<style scoped>\n",
       "    .dataframe tbody tr th:only-of-type {\n",
       "        vertical-align: middle;\n",
       "    }\n",
       "\n",
       "    .dataframe tbody tr th {\n",
       "        vertical-align: top;\n",
       "    }\n",
       "\n",
       "    .dataframe thead th {\n",
       "        text-align: right;\n",
       "    }\n",
       "</style>\n",
       "<table border=\"1\" class=\"dataframe\">\n",
       "  <thead>\n",
       "    <tr style=\"text-align: right;\">\n",
       "      <th></th>\n",
       "      <th>customer</th>\n",
       "      <th>driver_id</th>\n",
       "      <th>end_time</th>\n",
       "      <th>km</th>\n",
       "      <th>start_time</th>\n",
       "      <th>track_id</th>\n",
       "      <th>month</th>\n",
       "      <th>duration</th>\n",
       "      <th>trip_average_speed_km_h</th>\n",
       "      <th>night_bonuses</th>\n",
       "      <th>weekend_bonuses</th>\n",
       "      <th>extra_milage_bonuses</th>\n",
       "      <th>basic_taarif</th>\n",
       "      <th>extra_milage</th>\n",
       "      <th>night_bonus</th>\n",
       "      <th>weekend_bonus</th>\n",
       "    </tr>\n",
       "  </thead>\n",
       "  <tbody>\n",
       "    <tr>\n",
       "      <th>0</th>\n",
       "      <td>tnuva</td>\n",
       "      <td>949</td>\n",
       "      <td>2015-06-01 04:16:00.000000000</td>\n",
       "      <td>252.820806</td>\n",
       "      <td>2015-06-01 01:05:00</td>\n",
       "      <td>4781353</td>\n",
       "      <td>2015-06-01</td>\n",
       "      <td>03:11:00</td>\n",
       "      <td>79.420149</td>\n",
       "      <td>252.820806</td>\n",
       "      <td>0.0</td>\n",
       "      <td>52.820806</td>\n",
       "      <td>6.0</td>\n",
       "      <td>3.0</td>\n",
       "      <td>80.0</td>\n",
       "      <td>0.0</td>\n",
       "    </tr>\n",
       "    <tr>\n",
       "      <th>1</th>\n",
       "      <td>jerusalem_muni</td>\n",
       "      <td>148</td>\n",
       "      <td>2015-06-01 06:55:52.686117995</td>\n",
       "      <td>68.320862</td>\n",
       "      <td>2015-06-01 06:00:00</td>\n",
       "      <td>4781353</td>\n",
       "      <td>2015-06-01</td>\n",
       "      <td>00:55:52.686117</td>\n",
       "      <td>73.360611</td>\n",
       "      <td>0.000000</td>\n",
       "      <td>0.0</td>\n",
       "      <td>0.000000</td>\n",
       "      <td>8.0</td>\n",
       "      <td>40.0</td>\n",
       "      <td>50.0</td>\n",
       "      <td>30.0</td>\n",
       "    </tr>\n",
       "    <tr>\n",
       "      <th>2</th>\n",
       "      <td>hot</td>\n",
       "      <td>641</td>\n",
       "      <td>2015-06-02 04:18:00.000000000</td>\n",
       "      <td>62.763052</td>\n",
       "      <td>2015-06-02 03:25:00</td>\n",
       "      <td>4781353</td>\n",
       "      <td>2015-06-01</td>\n",
       "      <td>00:53:00</td>\n",
       "      <td>71.052512</td>\n",
       "      <td>62.763052</td>\n",
       "      <td>0.0</td>\n",
       "      <td>0.000000</td>\n",
       "      <td>7.0</td>\n",
       "      <td>7.0</td>\n",
       "      <td>10.0</td>\n",
       "      <td>40.0</td>\n",
       "    </tr>\n",
       "    <tr>\n",
       "      <th>3</th>\n",
       "      <td>electricity</td>\n",
       "      <td>268</td>\n",
       "      <td>2015-06-02 15:42:00.000000000</td>\n",
       "      <td>267.968900</td>\n",
       "      <td>2015-06-02 12:38:00</td>\n",
       "      <td>4781353</td>\n",
       "      <td>2015-06-01</td>\n",
       "      <td>03:04:00</td>\n",
       "      <td>87.381163</td>\n",
       "      <td>0.000000</td>\n",
       "      <td>0.0</td>\n",
       "      <td>67.968900</td>\n",
       "      <td>10.0</td>\n",
       "      <td>5.0</td>\n",
       "      <td>40.0</td>\n",
       "      <td>70.0</td>\n",
       "    </tr>\n",
       "    <tr>\n",
       "      <th>4</th>\n",
       "      <td>aminach</td>\n",
       "      <td>897</td>\n",
       "      <td>2015-06-03 07:40:00.000000000</td>\n",
       "      <td>379.727611</td>\n",
       "      <td>2015-06-03 02:57:00</td>\n",
       "      <td>4781353</td>\n",
       "      <td>2015-06-01</td>\n",
       "      <td>04:43:00</td>\n",
       "      <td>80.507621</td>\n",
       "      <td>379.727611</td>\n",
       "      <td>0.0</td>\n",
       "      <td>179.727611</td>\n",
       "      <td>15.0</td>\n",
       "      <td>4.0</td>\n",
       "      <td>0.0</td>\n",
       "      <td>25.0</td>\n",
       "    </tr>\n",
       "  </tbody>\n",
       "</table>\n",
       "</div>"
      ],
      "text/plain": [
       "         customer  driver_id                      end_time          km  \\\n",
       "0           tnuva        949 2015-06-01 04:16:00.000000000  252.820806   \n",
       "1  jerusalem_muni        148 2015-06-01 06:55:52.686117995   68.320862   \n",
       "2             hot        641 2015-06-02 04:18:00.000000000   62.763052   \n",
       "3     electricity        268 2015-06-02 15:42:00.000000000  267.968900   \n",
       "4         aminach        897 2015-06-03 07:40:00.000000000  379.727611   \n",
       "\n",
       "           start_time track_id      month        duration  \\\n",
       "0 2015-06-01 01:05:00  4781353 2015-06-01        03:11:00   \n",
       "1 2015-06-01 06:00:00  4781353 2015-06-01 00:55:52.686117   \n",
       "2 2015-06-02 03:25:00  4781353 2015-06-01        00:53:00   \n",
       "3 2015-06-02 12:38:00  4781353 2015-06-01        03:04:00   \n",
       "4 2015-06-03 02:57:00  4781353 2015-06-01        04:43:00   \n",
       "\n",
       "   trip_average_speed_km_h  night_bonuses  weekend_bonuses  \\\n",
       "0                79.420149     252.820806              0.0   \n",
       "1                73.360611       0.000000              0.0   \n",
       "2                71.052512      62.763052              0.0   \n",
       "3                87.381163       0.000000              0.0   \n",
       "4                80.507621     379.727611              0.0   \n",
       "\n",
       "   extra_milage_bonuses  basic_taarif  extra_milage  night_bonus  \\\n",
       "0             52.820806           6.0           3.0         80.0   \n",
       "1              0.000000           8.0          40.0         50.0   \n",
       "2              0.000000           7.0           7.0         10.0   \n",
       "3             67.968900          10.0           5.0         40.0   \n",
       "4            179.727611          15.0           4.0          0.0   \n",
       "\n",
       "   weekend_bonus  \n",
       "0            0.0  \n",
       "1           30.0  \n",
       "2           40.0  \n",
       "3           70.0  \n",
       "4           25.0  "
      ]
     },
     "execution_count": 316,
     "metadata": {},
     "output_type": "execute_result"
    }
   ],
   "source": [
    "all_trips_taarif.head()"
   ]
  },
  {
   "cell_type": "code",
   "execution_count": 317,
   "metadata": {
    "ExecuteTime": {
     "end_time": "2020-08-12T08:22:20.745944Z",
     "start_time": "2020-08-12T08:22:20.560814Z"
    }
   },
   "outputs": [],
   "source": [
    "all_trips_taarif = all_trips.merge(taarif, how='left')\n",
    "all_trips_taarif['Income'] = all_trips_taarif['basic_taarif'] *\\\n",
    "                            (all_trips_taarif['km'] \\\n",
    "                           + all_trips_taarif['night_bonuses'] * (all_trips_taarif['night_bonus'] / 100) \\\n",
    "                           + all_trips_taarif['weekend_bonuses'] * (all_trips_taarif['weekend_bonus'] / 100) \\\n",
    "                           + all_trips_taarif['extra_milage_bonuses'] * (all_trips_taarif['extra_milage'] / 100))"
   ]
  },
  {
   "cell_type": "code",
   "execution_count": 329,
   "metadata": {
    "ExecuteTime": {
     "end_time": "2020-08-12T08:31:19.183585Z",
     "start_time": "2020-08-12T08:31:19.176604Z"
    }
   },
   "outputs": [],
   "source": [
    "all_trips['total_income'] = all_trips_taarif['Income']"
   ]
  },
  {
   "cell_type": "markdown",
   "metadata": {},
   "source": [
    "### 4.2 Summarize the income per driver "
   ]
  },
  {
   "cell_type": "code",
   "execution_count": 350,
   "metadata": {
    "ExecuteTime": {
     "end_time": "2020-08-12T09:53:05.241800Z",
     "start_time": "2020-08-12T09:53:05.192944Z"
    }
   },
   "outputs": [],
   "source": [
    "summary = all_trips.groupby(['month', 'driver_id'])[['total_income', 'km']].sum().reset_index()"
   ]
  },
  {
   "cell_type": "code",
   "execution_count": 351,
   "metadata": {
    "ExecuteTime": {
     "end_time": "2020-08-12T09:53:05.570984Z",
     "start_time": "2020-08-12T09:53:05.553998Z"
    }
   },
   "outputs": [],
   "source": [
    "summary = summary.merge(drivers['drivers'][['id', 'gender', 'age', 'vetek_years']]\\\n",
    "                        .rename(columns={'id': 'driver_id'}), how='left')\\\n",
    "                 .rename(columns=lambda x: x.capitalize()).round(1)\\\n",
    "                 .rename(columns={'Km': 'Total_km', 'Vetek_years': 'Vetek'})"
   ]
  },
  {
   "cell_type": "code",
   "execution_count": 353,
   "metadata": {
    "ExecuteTime": {
     "end_time": "2020-08-12T09:54:08.646816Z",
     "start_time": "2020-08-12T09:54:08.632970Z"
    }
   },
   "outputs": [
    {
     "data": {
      "text/html": [
       "<div>\n",
       "<style scoped>\n",
       "    .dataframe tbody tr th:only-of-type {\n",
       "        vertical-align: middle;\n",
       "    }\n",
       "\n",
       "    .dataframe tbody tr th {\n",
       "        vertical-align: top;\n",
       "    }\n",
       "\n",
       "    .dataframe thead th {\n",
       "        text-align: right;\n",
       "    }\n",
       "</style>\n",
       "<table border=\"1\" class=\"dataframe\">\n",
       "  <thead>\n",
       "    <tr style=\"text-align: right;\">\n",
       "      <th></th>\n",
       "      <th>Month</th>\n",
       "      <th>Driver_id</th>\n",
       "      <th>Total_income</th>\n",
       "      <th>Total_km</th>\n",
       "      <th>Gender</th>\n",
       "      <th>Age</th>\n",
       "      <th>Vetek</th>\n",
       "    </tr>\n",
       "  </thead>\n",
       "  <tbody>\n",
       "    <tr>\n",
       "      <th>0</th>\n",
       "      <td>2015-01-01</td>\n",
       "      <td>1</td>\n",
       "      <td>101120.7</td>\n",
       "      <td>8839.3</td>\n",
       "      <td>F</td>\n",
       "      <td>39.0</td>\n",
       "      <td>1.4</td>\n",
       "    </tr>\n",
       "    <tr>\n",
       "      <th>1</th>\n",
       "      <td>2015-01-01</td>\n",
       "      <td>2</td>\n",
       "      <td>140929.0</td>\n",
       "      <td>9616.1</td>\n",
       "      <td>M</td>\n",
       "      <td>60.0</td>\n",
       "      <td>1.0</td>\n",
       "    </tr>\n",
       "    <tr>\n",
       "      <th>2</th>\n",
       "      <td>2015-01-01</td>\n",
       "      <td>3</td>\n",
       "      <td>96516.4</td>\n",
       "      <td>8023.2</td>\n",
       "      <td>M</td>\n",
       "      <td>44.0</td>\n",
       "      <td>4.7</td>\n",
       "    </tr>\n",
       "    <tr>\n",
       "      <th>3</th>\n",
       "      <td>2015-01-01</td>\n",
       "      <td>4</td>\n",
       "      <td>94328.5</td>\n",
       "      <td>7378.3</td>\n",
       "      <td>M</td>\n",
       "      <td>54.0</td>\n",
       "      <td>11.7</td>\n",
       "    </tr>\n",
       "    <tr>\n",
       "      <th>4</th>\n",
       "      <td>2015-01-01</td>\n",
       "      <td>5</td>\n",
       "      <td>133661.8</td>\n",
       "      <td>9594.8</td>\n",
       "      <td>M</td>\n",
       "      <td>35.0</td>\n",
       "      <td>4.7</td>\n",
       "    </tr>\n",
       "  </tbody>\n",
       "</table>\n",
       "</div>"
      ],
      "text/plain": [
       "       Month  Driver_id  Total_income  Total_km Gender   Age  Vetek\n",
       "0 2015-01-01          1      101120.7    8839.3      F  39.0    1.4\n",
       "1 2015-01-01          2      140929.0    9616.1      M  60.0    1.0\n",
       "2 2015-01-01          3       96516.4    8023.2      M  44.0    4.7\n",
       "3 2015-01-01          4       94328.5    7378.3      M  54.0   11.7\n",
       "4 2015-01-01          5      133661.8    9594.8      M  35.0    4.7"
      ]
     },
     "execution_count": 353,
     "metadata": {},
     "output_type": "execute_result"
    }
   ],
   "source": [
    "summary.head()"
   ]
  }
 ],
 "metadata": {
  "kernelspec": {
   "display_name": "Python 3",
   "language": "python",
   "name": "python3"
  },
  "language_info": {
   "codemirror_mode": {
    "name": "ipython",
    "version": 3
   },
   "file_extension": ".py",
   "mimetype": "text/x-python",
   "name": "python",
   "nbconvert_exporter": "python",
   "pygments_lexer": "ipython3",
   "version": "3.7.3"
  }
 },
 "nbformat": 4,
 "nbformat_minor": 2
}
